{
  "nbformat": 4,
  "nbformat_minor": 0,
  "metadata": {
    "colab": {
      "provenance": [],
      "include_colab_link": true
    },
    "kernelspec": {
      "name": "python3",
      "display_name": "Python 3"
    },
    "language_info": {
      "name": "python"
    }
  },
  "cells": [
    {
      "cell_type": "markdown",
      "metadata": {
        "id": "view-in-github",
        "colab_type": "text"
      },
      "source": [
        "<a href=\"https://colab.research.google.com/github/M-Roselinsky/emoryqtm151/blob/main/MCSimulationSession.ipynb\" target=\"_parent\"><img src=\"https://colab.research.google.com/assets/colab-badge.svg\" alt=\"Open In Colab\"/></a>"
      ]
    },
    {
      "cell_type": "code",
      "execution_count": null,
      "metadata": {
        "id": "kqFA0VgW1Nht"
      },
      "outputs": [],
      "source": [
        "import pandas_datareader.data as pdr\n",
        "import pandas as pd\n",
        "import numpy as np\n",
        "import datetime as dt\n",
        "import matplotlib.pyplot as plt\n",
        "import yfinance as yfin # For some error with pandas_datareader\n",
        "yfin.pdr_override()"
      ]
    },
    {
      "cell_type": "code",
      "source": [
        "# choose a portfolio of 7 tickers\n",
        "tickers = ['BRK-B','AAPL','RITM','JPM','MSFT','GT', 'CCL']\n",
        "\n",
        "# Set the end date\n",
        "\n",
        "\n",
        "# choose a start date time delta\n",
        "\n",
        "\n",
        "# get the monthly returns"
      ],
      "metadata": {
        "id": "m9L3m5lC1Sb5"
      },
      "execution_count": null,
      "outputs": []
    },
    {
      "cell_type": "code",
      "source": [
        "# Get the percent change\n"
      ],
      "metadata": {
        "id": "0HvKtfLi1WNC"
      },
      "execution_count": null,
      "outputs": []
    },
    {
      "cell_type": "code",
      "source": [
        "# Calculate the mean and covariance matrices\n"
      ],
      "metadata": {
        "id": "ZEZKg36i1d2x"
      },
      "execution_count": null,
      "outputs": []
    },
    {
      "cell_type": "code",
      "source": [
        "# Initialize random weights\n",
        "\n",
        "\n",
        "# Normalize the weights\n"
      ],
      "metadata": {
        "id": "mBcjTBwK1jTO"
      },
      "execution_count": null,
      "outputs": []
    },
    {
      "cell_type": "markdown",
      "source": [
        "# MeanRets format\n",
        "[[ret1, ret1, ret1, ret1, ret1, ret1, ret1, ret1, ret1, ret1, ret1, ret1, ret1],\n",
        "\n",
        "[ret2, ret2, ret2, ret2, ret2, ret2, ret2, ret2, ret2, ret2, ret2, ret2, ret2],\n",
        "\n",
        "...\n",
        "\n",
        "[ret7, ret7, ret7, ret7, ret7, ret7, ret7, ret7, ret7, ret7, ret7, ret7, ret7]]"
      ],
      "metadata": {
        "id": "eMUkSYExfVWb"
      }
    },
    {
      "cell_type": "code",
      "source": [
        "# Initialize Monte Carlo variables\n",
        "numSims = 100\n",
        "days = 100\n",
        "initialPortfolio = 100000\n",
        "\n",
        "# Initialize a returns matrix for each stock, with however many days you plan to run it\n",
        "meanRets = np.full(shape=(), fill_value=)\n",
        "\n",
        "# Get transpose of returns\n",
        "\n",
        "# Repeat the same to initialize a matrix to store each simulation\n",
        "portfolioSims = np.full(shape=(days, numSims), fill_value=0.0)"
      ],
      "metadata": {
        "id": "TayQVH0R1klq"
      },
      "execution_count": null,
      "outputs": []
    },
    {
      "cell_type": "code",
      "source": [
        "# Run the simulations\n",
        "for i in range(numSims):\n",
        "    # Generate random data (no correlation) using normal distribution\n",
        "\n",
        "\n",
        "    # Use Cholesky Decomp to determine Lower Triangle Matrix to associate random data with covariance of the stocks\n",
        "\n",
        "\n",
        "    # Record portfolio daily returns\n"
      ],
      "metadata": {
        "id": "4hW7Lqt81sgS"
      },
      "execution_count": null,
      "outputs": []
    },
    {
      "cell_type": "code",
      "source": [
        "# Plot the simulations\n",
        "plt.plot(portfolioSims)\n",
        "plt.ylabel('Portfolio Value ($)')\n",
        "plt.xlabel('Days')\n",
        "plt.title('MC Simulation')"
      ],
      "metadata": {
        "id": "9nx5ICkD1uZ-"
      },
      "execution_count": null,
      "outputs": []
    },
    {
      "cell_type": "code",
      "source": [
        "# Get the last return for each simulation\n",
        "\n",
        "\n",
        "# Get the Value at Risk for alpha = 0.05\n",
        "\n",
        "\n",
        "# Get all the values that are below the Value at Risk for alpha = 0.05\n"
      ],
      "metadata": {
        "id": "3lFW6xOq1xay"
      },
      "execution_count": null,
      "outputs": []
    },
    {
      "cell_type": "code",
      "source": [
        "# Calculate VaR drawdown on the initial portfolio amount\n",
        "\n",
        "\n",
        "# Calculate CVaR (Expected Shortfall) on the initial portfolio amount\n",
        "# -> mean of all the values below the VaR threshold\n",
        "\n",
        "\n",
        "# Plot the simulations\n",
        "plt.plot(portfolioSims)\n",
        "plt.ylabel('Portfolio Value ($)')\n",
        "plt.xlabel('Days')\n",
        "plt.title('MC Simulation')\n",
        "\n",
        "# Plot the var and cvar\n",
        "plt.axhline(y=initialPortfolio - var, color='b', linestyle='dashed', label='var')\n",
        "plt.axhline(y=initialPortfolio - cvar, color='r', linestyle='dashed', label='cvar')\n",
        "plt.legend(loc='upper center')\n",
        "plt.show()"
      ],
      "metadata": {
        "id": "VciGI-Ao12Hz"
      },
      "execution_count": null,
      "outputs": []
    }
  ]
}