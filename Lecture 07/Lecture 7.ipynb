{
 "cells": [
  {
   "attachments": {},
   "cell_type": "markdown",
   "metadata": {},
   "source": [
    "# <span style=\"color:darkblue\"> Lecture 7: Applications II - Operations with multiple datasets </span>"
   ]
  },
  {
   "attachments": {},
   "cell_type": "markdown",
   "metadata": {},
   "source": [
    "<font size=\"5\"> \n",
    "\n",
    "This class will be entirely self-directed\n",
    "\n",
    "- Learn basic commands for importing/exporting datasets\n",
    "- Practice this module's concepts in a quiz\n",
    "- More info will be posted on Canvas at the start of class\n"
   ]
  },
  {
   "attachments": {},
   "cell_type": "markdown",
   "metadata": {},
   "source": [
    "## <span style=\"color:darkblue\"> I. Import Libraries </span>"
   ]
  },
  {
   "cell_type": "code",
   "execution_count": 1,
   "metadata": {},
   "outputs": [],
   "source": [
    "# the \"numPy\" library is used for mathematical operations\n",
    "# the \"matplotlib\" library is for generating graphs\n",
    "# the \"pandas\" library is for manipualting datasets\n",
    "\n",
    "import numpy as np\n",
    "import matplotlib.pyplot as plt\n",
    "import pandas as pd"
   ]
  },
  {
   "attachments": {},
   "cell_type": "markdown",
   "metadata": {},
   "source": [
    "## <span style=\"color:darkblue\"> II. Importing / Exporting Datasets </span>"
   ]
  },
  {
   "attachments": {},
   "cell_type": "markdown",
   "metadata": {},
   "source": [
    "<font size = \"5\">\n",
    "\n",
    "There are many formats to store data out there.\n",
    "\n",
    "- So far we've only imported \".csv\" files\n",
    "- Also common: Excel (\".xlsx\") and Stata (\".dta\")\n",
    "- Pandas can handle all these formats! Full list:\n",
    "\n",
    "https://pandas.pydata.org/docs/reference/io.html#"
   ]
  },
  {
   "attachments": {},
   "cell_type": "markdown",
   "metadata": {},
   "source": [
    "<font size = \"5\" >\n",
    "\n",
    "Read/write from CSV"
   ]
  },
  {
   "cell_type": "code",
   "execution_count": 2,
   "metadata": {},
   "outputs": [],
   "source": [
    "# Import a CSV file (READ)\n",
    "carfeatures = pd.read_csv(\"data/features.csv\")\n",
    "\n",
    "# Save the dataset to another csv file (WRITE)\n",
    "carfeatures.to_csv(\"data/features_stored.csv\")\n"
   ]
  },
  {
   "attachments": {},
   "cell_type": "markdown",
   "metadata": {},
   "source": [
    "<font size = \"5\">\n",
    "\n",
    "Read/write from Stata (\".dta\")"
   ]
  },
  {
   "cell_type": "code",
   "execution_count": 3,
   "metadata": {},
   "outputs": [],
   "source": [
    "# Read a Stata file\n",
    "carfeatures = pd.read_stata(\"data/features.dta\")\n",
    "\n",
    "# Write a stata file\n",
    "carfeatures.to_stata(\"data/features_stored.dta\")"
   ]
  },
  {
   "attachments": {},
   "cell_type": "markdown",
   "metadata": {},
   "source": [
    "<font size = \"5\">\n",
    "\n",
    "Read/write from Excel (\".xlsx\")"
   ]
  },
  {
   "cell_type": "code",
   "execution_count": 6,
   "metadata": {},
   "outputs": [
    {
     "ename": "ImportError",
     "evalue": "Missing optional dependency 'openpyxl'.  Use pip or conda to install openpyxl.",
     "output_type": "error",
     "traceback": [
      "\u001b[0;31m---------------------------------------------------------------------------\u001b[0m",
      "\u001b[0;31mModuleNotFoundError\u001b[0m                       Traceback (most recent call last)",
      "File \u001b[0;32m/Library/Frameworks/Python.framework/Versions/3.11/lib/python3.11/site-packages/pandas/compat/_optional.py:141\u001b[0m, in \u001b[0;36mimport_optional_dependency\u001b[0;34m(name, extra, errors, min_version)\u001b[0m\n\u001b[1;32m    140\u001b[0m \u001b[39mtry\u001b[39;00m:\n\u001b[0;32m--> 141\u001b[0m     module \u001b[39m=\u001b[39m importlib\u001b[39m.\u001b[39;49mimport_module(name)\n\u001b[1;32m    142\u001b[0m \u001b[39mexcept\u001b[39;00m \u001b[39mImportError\u001b[39;00m:\n",
      "File \u001b[0;32m/Library/Frameworks/Python.framework/Versions/3.11/lib/python3.11/importlib/__init__.py:126\u001b[0m, in \u001b[0;36mimport_module\u001b[0;34m(name, package)\u001b[0m\n\u001b[1;32m    125\u001b[0m         level \u001b[39m+\u001b[39m\u001b[39m=\u001b[39m \u001b[39m1\u001b[39m\n\u001b[0;32m--> 126\u001b[0m \u001b[39mreturn\u001b[39;00m _bootstrap\u001b[39m.\u001b[39;49m_gcd_import(name[level:], package, level)\n",
      "File \u001b[0;32m<frozen importlib._bootstrap>:1206\u001b[0m, in \u001b[0;36m_gcd_import\u001b[0;34m(name, package, level)\u001b[0m\n",
      "File \u001b[0;32m<frozen importlib._bootstrap>:1178\u001b[0m, in \u001b[0;36m_find_and_load\u001b[0;34m(name, import_)\u001b[0m\n",
      "File \u001b[0;32m<frozen importlib._bootstrap>:1142\u001b[0m, in \u001b[0;36m_find_and_load_unlocked\u001b[0;34m(name, import_)\u001b[0m\n",
      "\u001b[0;31mModuleNotFoundError\u001b[0m: No module named 'openpyxl'",
      "\nDuring handling of the above exception, another exception occurred:\n",
      "\u001b[0;31mImportError\u001b[0m                               Traceback (most recent call last)",
      "Cell \u001b[0;32mIn[6], line 2\u001b[0m\n\u001b[1;32m      1\u001b[0m \u001b[39m#  Read\u001b[39;00m\n\u001b[0;32m----> 2\u001b[0m carfeatures \u001b[39m=\u001b[39m pd\u001b[39m.\u001b[39;49mread_excel(\u001b[39m\"\u001b[39;49m\u001b[39mdata/features.xlsx\u001b[39;49m\u001b[39m\"\u001b[39;49m)\n\u001b[1;32m      4\u001b[0m \u001b[39m# Write \u001b[39;00m\n\u001b[1;32m      5\u001b[0m carfeatures\u001b[39m.\u001b[39mto_excel(\u001b[39m\"\u001b[39m\u001b[39mdata/features_stored.xlsx\u001b[39m\u001b[39m\"\u001b[39m)\n",
      "File \u001b[0;32m/Library/Frameworks/Python.framework/Versions/3.11/lib/python3.11/site-packages/pandas/util/_decorators.py:211\u001b[0m, in \u001b[0;36mdeprecate_kwarg.<locals>._deprecate_kwarg.<locals>.wrapper\u001b[0;34m(*args, **kwargs)\u001b[0m\n\u001b[1;32m    209\u001b[0m     \u001b[39melse\u001b[39;00m:\n\u001b[1;32m    210\u001b[0m         kwargs[new_arg_name] \u001b[39m=\u001b[39m new_arg_value\n\u001b[0;32m--> 211\u001b[0m \u001b[39mreturn\u001b[39;00m func(\u001b[39m*\u001b[39;49margs, \u001b[39m*\u001b[39;49m\u001b[39m*\u001b[39;49mkwargs)\n",
      "File \u001b[0;32m/Library/Frameworks/Python.framework/Versions/3.11/lib/python3.11/site-packages/pandas/util/_decorators.py:331\u001b[0m, in \u001b[0;36mdeprecate_nonkeyword_arguments.<locals>.decorate.<locals>.wrapper\u001b[0;34m(*args, **kwargs)\u001b[0m\n\u001b[1;32m    325\u001b[0m \u001b[39mif\u001b[39;00m \u001b[39mlen\u001b[39m(args) \u001b[39m>\u001b[39m num_allow_args:\n\u001b[1;32m    326\u001b[0m     warnings\u001b[39m.\u001b[39mwarn(\n\u001b[1;32m    327\u001b[0m         msg\u001b[39m.\u001b[39mformat(arguments\u001b[39m=\u001b[39m_format_argument_list(allow_args)),\n\u001b[1;32m    328\u001b[0m         \u001b[39mFutureWarning\u001b[39;00m,\n\u001b[1;32m    329\u001b[0m         stacklevel\u001b[39m=\u001b[39mfind_stack_level(),\n\u001b[1;32m    330\u001b[0m     )\n\u001b[0;32m--> 331\u001b[0m \u001b[39mreturn\u001b[39;00m func(\u001b[39m*\u001b[39;49margs, \u001b[39m*\u001b[39;49m\u001b[39m*\u001b[39;49mkwargs)\n",
      "File \u001b[0;32m/Library/Frameworks/Python.framework/Versions/3.11/lib/python3.11/site-packages/pandas/io/excel/_base.py:482\u001b[0m, in \u001b[0;36mread_excel\u001b[0;34m(io, sheet_name, header, names, index_col, usecols, squeeze, dtype, engine, converters, true_values, false_values, skiprows, nrows, na_values, keep_default_na, na_filter, verbose, parse_dates, date_parser, thousands, decimal, comment, skipfooter, convert_float, mangle_dupe_cols, storage_options)\u001b[0m\n\u001b[1;32m    480\u001b[0m \u001b[39mif\u001b[39;00m \u001b[39mnot\u001b[39;00m \u001b[39misinstance\u001b[39m(io, ExcelFile):\n\u001b[1;32m    481\u001b[0m     should_close \u001b[39m=\u001b[39m \u001b[39mTrue\u001b[39;00m\n\u001b[0;32m--> 482\u001b[0m     io \u001b[39m=\u001b[39m ExcelFile(io, storage_options\u001b[39m=\u001b[39;49mstorage_options, engine\u001b[39m=\u001b[39;49mengine)\n\u001b[1;32m    483\u001b[0m \u001b[39melif\u001b[39;00m engine \u001b[39mand\u001b[39;00m engine \u001b[39m!=\u001b[39m io\u001b[39m.\u001b[39mengine:\n\u001b[1;32m    484\u001b[0m     \u001b[39mraise\u001b[39;00m \u001b[39mValueError\u001b[39;00m(\n\u001b[1;32m    485\u001b[0m         \u001b[39m\"\u001b[39m\u001b[39mEngine should not be specified when passing \u001b[39m\u001b[39m\"\u001b[39m\n\u001b[1;32m    486\u001b[0m         \u001b[39m\"\u001b[39m\u001b[39man ExcelFile - ExcelFile already has the engine set\u001b[39m\u001b[39m\"\u001b[39m\n\u001b[1;32m    487\u001b[0m     )\n",
      "File \u001b[0;32m/Library/Frameworks/Python.framework/Versions/3.11/lib/python3.11/site-packages/pandas/io/excel/_base.py:1695\u001b[0m, in \u001b[0;36mExcelFile.__init__\u001b[0;34m(self, path_or_buffer, engine, storage_options)\u001b[0m\n\u001b[1;32m   1692\u001b[0m \u001b[39mself\u001b[39m\u001b[39m.\u001b[39mengine \u001b[39m=\u001b[39m engine\n\u001b[1;32m   1693\u001b[0m \u001b[39mself\u001b[39m\u001b[39m.\u001b[39mstorage_options \u001b[39m=\u001b[39m storage_options\n\u001b[0;32m-> 1695\u001b[0m \u001b[39mself\u001b[39m\u001b[39m.\u001b[39m_reader \u001b[39m=\u001b[39m \u001b[39mself\u001b[39;49m\u001b[39m.\u001b[39;49m_engines[engine](\u001b[39mself\u001b[39;49m\u001b[39m.\u001b[39;49m_io, storage_options\u001b[39m=\u001b[39;49mstorage_options)\n",
      "File \u001b[0;32m/Library/Frameworks/Python.framework/Versions/3.11/lib/python3.11/site-packages/pandas/io/excel/_openpyxl.py:556\u001b[0m, in \u001b[0;36mOpenpyxlReader.__init__\u001b[0;34m(self, filepath_or_buffer, storage_options)\u001b[0m\n\u001b[1;32m    541\u001b[0m \u001b[39m@doc\u001b[39m(storage_options\u001b[39m=\u001b[39m_shared_docs[\u001b[39m\"\u001b[39m\u001b[39mstorage_options\u001b[39m\u001b[39m\"\u001b[39m])\n\u001b[1;32m    542\u001b[0m \u001b[39mdef\u001b[39;00m \u001b[39m__init__\u001b[39m(\n\u001b[1;32m    543\u001b[0m     \u001b[39mself\u001b[39m,\n\u001b[1;32m    544\u001b[0m     filepath_or_buffer: FilePath \u001b[39m|\u001b[39m ReadBuffer[\u001b[39mbytes\u001b[39m],\n\u001b[1;32m    545\u001b[0m     storage_options: StorageOptions \u001b[39m=\u001b[39m \u001b[39mNone\u001b[39;00m,\n\u001b[1;32m    546\u001b[0m ) \u001b[39m-\u001b[39m\u001b[39m>\u001b[39m \u001b[39mNone\u001b[39;00m:\n\u001b[1;32m    547\u001b[0m \u001b[39m    \u001b[39m\u001b[39m\"\"\"\u001b[39;00m\n\u001b[1;32m    548\u001b[0m \u001b[39m    Reader using openpyxl engine.\u001b[39;00m\n\u001b[1;32m    549\u001b[0m \n\u001b[0;32m   (...)\u001b[0m\n\u001b[1;32m    554\u001b[0m \u001b[39m    {storage_options}\u001b[39;00m\n\u001b[1;32m    555\u001b[0m \u001b[39m    \"\"\"\u001b[39;00m\n\u001b[0;32m--> 556\u001b[0m     import_optional_dependency(\u001b[39m\"\u001b[39;49m\u001b[39mopenpyxl\u001b[39;49m\u001b[39m\"\u001b[39;49m)\n\u001b[1;32m    557\u001b[0m     \u001b[39msuper\u001b[39m()\u001b[39m.\u001b[39m\u001b[39m__init__\u001b[39m(filepath_or_buffer, storage_options\u001b[39m=\u001b[39mstorage_options)\n",
      "File \u001b[0;32m/Library/Frameworks/Python.framework/Versions/3.11/lib/python3.11/site-packages/pandas/compat/_optional.py:144\u001b[0m, in \u001b[0;36mimport_optional_dependency\u001b[0;34m(name, extra, errors, min_version)\u001b[0m\n\u001b[1;32m    142\u001b[0m \u001b[39mexcept\u001b[39;00m \u001b[39mImportError\u001b[39;00m:\n\u001b[1;32m    143\u001b[0m     \u001b[39mif\u001b[39;00m errors \u001b[39m==\u001b[39m \u001b[39m\"\u001b[39m\u001b[39mraise\u001b[39m\u001b[39m\"\u001b[39m:\n\u001b[0;32m--> 144\u001b[0m         \u001b[39mraise\u001b[39;00m \u001b[39mImportError\u001b[39;00m(msg)\n\u001b[1;32m    145\u001b[0m     \u001b[39melse\u001b[39;00m:\n\u001b[1;32m    146\u001b[0m         \u001b[39mreturn\u001b[39;00m \u001b[39mNone\u001b[39;00m\n",
      "\u001b[0;31mImportError\u001b[0m: Missing optional dependency 'openpyxl'.  Use pip or conda to install openpyxl."
     ]
    }
   ],
   "source": [
    "#  Read\n",
    "carfeatures = pd.read_excel(\"data/features.xlsx\")\n",
    "\n",
    "# Write \n",
    "carfeatures.to_excel(\"data/features_stored.xlsx\")\n",
    "\n",
    "# Note: If the information is contained in a specifc sheet of the excel file\n",
    "#carfeatures = pd.read_excel(\"data/features.csv\",sheet_name = \"Sheet1\")\n"
   ]
  },
  {
   "attachments": {},
   "cell_type": "markdown",
   "metadata": {},
   "source": [
    "## <span style=\"color:darkblue\"> III. Quiz Structure </span>\n",
    "\n",
    "<font size = \"5\">\n",
    "\n",
    "The day of the quiz I will ...\n",
    "- Provide different datasets with yearly data\n",
    "- Give more specific instructions.\n",
    "- Below, you will see that type of questions that will be asked.\n",
    "- The idea is for you to apply known concepts to new data\n",
    "- You have 50 minutes to complete the assignment\n",
    "\n",
    "Questions\n",
    "\n",
    "(exact wording may change in quiz, but exercise will be very similar)\n"
   ]
  },
  {
   "attachments": {},
   "cell_type": "markdown",
   "metadata": {},
   "source": [
    "<font size = \"5\">\n",
    "\n",
    "(a) Create two normal random variables ...\n",
    "\n",
    "\n",
    "- Call them \"vec_x\" and \"vec_z\"\n",
    "- To generate each variable, use loc = 2, scale = 5, size = 1000\n",
    "- Plot a histogram of each variable\n",
    "    - Label the axes and title\n",
    "    - Each graph should have a different title\n",
    " \n",
    "To get full points, plot the histograms on a grid (See Lecture 6)"
   ]
  },
  {
   "cell_type": "code",
   "execution_count": 6,
   "metadata": {},
   "outputs": [
    {
     "data": {
      "text/plain": [
       "Text(291.3585858585858, 0.5, 'Frequency')"
      ]
     },
     "execution_count": 6,
     "metadata": {},
     "output_type": "execute_result"
    },
    {
     "data": {
      "image/png": "[encoded data removed]",
      "text/plain": [
       "<Figure size 600x300 with 2 Axes>"
      ]
     },
     "metadata": {},
     "output_type": "display_data"
    }
   ],
   "source": [
    "vec_x = np.random.normal(loc=2, scale=5, size=1000)\n",
    "vec_z = np.random.normal(loc=2, scale=5, size=1000)\n",
    "\n",
    "fig, list_subfig = plt.subplots(1, 2,figsize = (6,3))\n",
    "\n",
    "plt.tight_layout()\n",
    "\n",
    "list_subfig[0].hist(x = vec_x)\n",
    "list_subfig[0].set_title(\"The Frequency of Variable X\")\n",
    "list_subfig[0].set_xlabel(\"Variable X\")\n",
    "list_subfig[0].set_ylabel(\"Frequency\")\n",
    "\n",
    "list_subfig[1].hist(x = vec_z)\n",
    "list_subfig[1].set_title(\"The Frequency of Variable Z\")\n",
    "list_subfig[1].set_xlabel(\"Variable Z\")\n",
    "list_subfig[1].set_ylabel(\"Frequency\")"
   ]
  },
  {
   "attachments": {},
   "cell_type": "markdown",
   "metadata": {},
   "source": [
    "<font size = \"5\">\n",
    "\n",
    "(b) Create a new variable \"vec_y\" by the formula\n",
    "\n",
    "$ y = x^2 + 2x + 5$\n",
    "\n",
    "- Use element-by-element vector multiplicaiton (no loops)\n",
    "- Produce a scatter plot of \"vec_y\" against \"vec_x\"\n",
    "- Label the axes and the title\n",
    "- Change the color to \"red\", \"green\" or \"purple\" (you choose)\n"
   ]
  },
  {
   "cell_type": "code",
   "execution_count": 13,
   "metadata": {},
   "outputs": [
    {
     "name": "stdout",
     "output_type": "stream",
     "text": [
      "[ 4.33622043e+01  8.65099253e+00  1.57326936e+03 -4.35318177e+00\n",
      " -2.03672208e+02 -5.38730126e+00  1.21869352e+01  7.50593541e+02\n",
      "  5.36346179e+01  3.02624981e+03 -1.13914161e+01  1.95828715e+01\n",
      "  1.04417735e+01  1.13999132e+03  8.32565225e+02 -3.31967823e+01\n",
      " -9.25826026e+00 -1.41395996e+00  8.94731696e+02 -4.19825043e+02\n",
      " -9.58306404e+01  2.59696171e+02 -2.15952148e+02  1.02403477e+02\n",
      " -2.30033116e+00 -2.95828660e+02  2.62537653e+01  7.84822058e-01\n",
      " -7.22845768e+00 -2.59844150e+02  2.10346841e+00 -5.95873995e+01\n",
      "  5.61292785e+02  1.88057750e+01 -1.07390664e+02  2.69947897e+02\n",
      " -7.12967272e+01  4.99700487e+01  7.11331771e+01 -2.16113776e+01\n",
      " -4.14657262e+01 -2.16372540e+01  1.28517528e+03  7.08638007e+00\n",
      " -7.16545087e+01  1.64080888e+02 -2.67597929e+02  6.92440789e+02\n",
      "  1.66132193e+02  1.72317175e+01  1.64308640e+03  3.46904891e+02\n",
      " -2.09277156e+00  5.59388811e-01 -1.36924738e+02 -5.42990093e+01\n",
      "  4.92469661e+01  2.01866167e+01 -3.27349707e+01  5.89372160e+01\n",
      "  1.39732011e+03 -2.24443062e+02  2.39755445e+01 -9.04986701e+02\n",
      "  1.50031744e+02 -9.90940033e+01  2.33867554e+02  8.71819750e+01\n",
      "  6.22075897e+02  1.48679435e+02  6.34556934e+01  1.30184238e+02\n",
      " -1.10276873e+02  9.20030795e+01  2.22719331e+02  1.33667483e+01\n",
      "  8.55542418e+02 -7.20677271e+01  1.51154168e+00  8.44776251e+02\n",
      "  1.65975137e+01  1.43149171e+02  5.04764815e+02  9.91575234e+01\n",
      "  4.10597112e+01 -6.83950380e+00  2.48729996e+01 -4.66879078e+00\n",
      "  8.61064382e+02  1.64182069e+00  7.00224051e+02 -3.03965666e+02\n",
      " -3.70815924e+01  5.74174353e+02  5.40481334e+02  7.27405383e+01\n",
      " -1.62769163e+00  5.48330238e+02  3.63068302e+00  3.13947078e+02\n",
      " -9.71497279e+01 -2.52447165e+03  8.28723871e+01  3.57918451e+02\n",
      " -5.52538138e+00  8.35805547e+02 -1.08173729e+01 -3.83778710e+00\n",
      "  9.43661949e+01  5.09490831e+02  4.79258423e-01  3.94135214e+02\n",
      " -2.11592578e+01  8.41444606e+01 -5.92740617e+00  6.99257062e+02\n",
      "  2.86573325e+01  3.24857661e+02  2.19097797e+02  2.69496236e+02\n",
      "  4.81195134e+01  8.26940503e+00  1.58198271e+01  6.73998095e+02\n",
      " -8.15705552e+01 -3.21851492e-01 -6.27292985e+00  1.55149918e+02\n",
      "  2.66145911e+02 -5.76089647e+02 -3.63491336e+01 -8.31509265e+00\n",
      "  8.56210129e+00  2.83808452e+02  8.66537937e+01 -2.94155455e+01\n",
      " -2.98684268e+02  7.81395979e+00  8.00561746e+01 -6.53031940e+00\n",
      "  1.23382539e+02  2.48752851e+03 -6.50602727e+00 -9.15917719e+01\n",
      "  4.62122205e+01  4.60487235e+02 -6.52996087e+01 -6.98390119e+00\n",
      " -4.75243083e+00  4.37368960e+01 -2.37531398e+01 -3.61032188e+00\n",
      "  4.40973746e+00  1.03827306e+00  2.91264612e+00  2.74945376e+01\n",
      "  2.68307234e+02  1.08873093e+03  2.16646566e+02  9.61917087e+01\n",
      " -3.95822095e+02  3.95097472e+01  6.77161078e+01  3.91901235e+01\n",
      "  1.73302320e+03  1.29645488e+01  2.95252097e+01  1.42556888e+02\n",
      " -4.66094690e+00 -7.26132495e+01  7.62580637e-01  5.75149153e+01\n",
      "  1.45322864e+03 -8.73373198e-01 -4.56617996e+00 -1.62222588e+00\n",
      " -7.85550892e+02  7.15474861e+02 -1.17649064e+01  1.02758075e+01\n",
      " -7.19091826e+02 -3.22410832e+01  2.18186014e+02 -3.98830303e+00\n",
      "  1.33859888e+02 -2.21455545e+00 -2.38341548e+00  2.80292178e+02\n",
      " -5.65593317e+00  9.04260177e+01  5.94315877e+02 -1.29843294e+02\n",
      "  3.47412470e+02 -2.46753958e+00  3.46645040e+01  1.55105968e+02\n",
      " -5.00597708e+00  1.12581622e+02  1.63754307e+01  5.49439772e+01\n",
      " -3.40928508e+00  2.22159556e+00  2.52410982e+02  6.29277946e+02\n",
      " -2.16630991e+00  4.96735300e+01 -1.11440022e+01 -1.01067616e+01\n",
      "  1.58625210e+02  1.49005692e+01  1.77953355e+02 -2.36176734e+00\n",
      "  2.87155416e+02  7.04049293e+02  1.74930341e+01 -1.36685118e+01\n",
      "  1.66396396e+03  4.70146362e+01  1.96055033e+03  5.42709766e+02\n",
      " -2.50089859e+01  5.15488950e+02 -5.42463809e+01 -4.84731619e+00\n",
      "  5.24415859e+02 -3.68237757e+02 -2.16003144e+02  3.91078482e+01\n",
      "  1.96101951e+02  7.78598763e+02  7.77350802e+01  1.80923130e+01\n",
      "  1.79025311e+00  1.07254637e+03 -4.38819166e+02 -4.07736083e+01\n",
      "  6.27281875e+02 -9.70202182e+00  1.90925421e+02 -4.83285932e+01\n",
      "  1.89451860e+01 -2.75711973e+02  1.16185986e+02  2.10790749e+00\n",
      " -8.65372499e-01  5.83729598e-01  4.10563594e+00  4.61734337e+01\n",
      " -2.17847180e+01 -3.16622268e+02  7.28423567e-01  4.11786817e+01\n",
      " -6.63718668e+01  9.03699643e+02 -3.29577318e+02 -6.81388458e+01\n",
      "  9.81021999e+01 -1.67203772e+02  6.58231105e+02  4.67957096e+01\n",
      " -1.95988913e+01  1.78593682e+02 -4.12269942e+01 -3.21780629e+01\n",
      " -1.48352471e+01 -3.09629784e+02  3.70681953e+01  5.24970407e+02\n",
      "  1.64362464e+03  5.54590673e+01  1.42124658e+03  1.06879174e+01\n",
      "  1.80897760e+01  6.48947257e+01 -5.22183556e+01 -5.83811253e+00\n",
      "  9.96566818e+02  5.29827049e+00 -5.05829563e+01 -2.19864998e+01\n",
      "  1.05614048e+03  4.15826982e+01 -1.77765761e+01  8.69121995e+00\n",
      "  1.21620529e+03  7.69488870e+01 -1.96907582e+02 -1.06384056e+02\n",
      "  1.15367122e+02 -2.01438049e+02  2.91723685e+01 -4.44399640e+00\n",
      "  1.08457765e+03 -2.21464343e+01 -6.55411199e+01  1.07372646e+03\n",
      "  5.18506952e+01  3.82196454e+00 -3.36290374e+01 -7.03342888e-01\n",
      "  5.71336570e+03 -3.40377695e+00  1.50151317e+02  2.54330779e+02\n",
      " -1.53303825e+00 -5.22195991e+00 -7.45977085e+00  5.72912504e+02\n",
      "  8.37377780e+01  3.79078201e+02  2.58180741e+02 -1.41260987e+02\n",
      "  1.91285242e+02  3.10586949e+02 -9.92598921e+00  1.07657209e+03\n",
      "  4.72213174e+00 -3.46354112e+00  2.07214239e+02  5.55850896e+01\n",
      "  7.76217251e+00  6.04687299e+02 -2.25403911e+01  4.63952511e+00\n",
      "  3.51931270e+02  7.50195479e+01  1.10976082e+00 -1.18273564e+01\n",
      "  7.92893473e+01  1.76826309e+02  6.89067675e+01  5.87543257e+02\n",
      " -1.44862191e+00  1.08084254e+00  7.39743226e+01  8.71156630e+01\n",
      " -6.77374204e+01 -4.59416376e+01 -5.68708400e+01  3.41608092e+01\n",
      "  1.41807896e+03  4.68753785e+02  4.10202391e+02 -3.48481492e+01\n",
      "  5.24822554e+02 -2.62106538e+00  1.56230106e+01  5.41889209e+02\n",
      " -5.03590927e+01  5.77064923e+01  3.37371552e+03 -7.56495379e+01\n",
      "  1.00592819e+01  8.96868932e+00 -8.14154373e+00  1.32689274e+02\n",
      " -5.26830000e+02  6.00535140e+02  2.21022381e+02  2.22496462e+02\n",
      " -3.94543965e+00  1.29126087e+02  7.08299369e+02 -1.35632917e+01\n",
      "  3.96425701e+01  8.02027888e+01  1.29711796e+01 -1.52379834e+01\n",
      " -1.06092296e+01 -1.00221951e+01 -8.00730212e+01 -3.72450920e+00\n",
      "  6.02047686e+01 -5.57414531e+02 -2.29075950e+01 -1.03847527e+01\n",
      " -1.99500533e+01 -8.36909483e+00  5.15772293e+01  6.08771682e+02\n",
      "  5.98321066e+01  6.50614944e+00 -3.38840431e+00 -1.34315477e+01\n",
      " -6.38369051e+01 -1.77435504e+01  1.72371569e+01  6.43151681e+02\n",
      " -1.50093110e+02  3.79897439e+02  5.20765293e+02  9.37364116e+02\n",
      "  5.11040994e+02  4.00284074e+01  5.29126264e+02  6.48313691e-01\n",
      " -7.46388365e+01  1.07651109e+03  6.31995040e+00  3.87343433e+00\n",
      "  2.41618477e+01 -1.29241102e+01 -1.28810031e+01  6.50727292e+01\n",
      "  2.28433627e+00  4.04175278e+01 -6.57952667e+00  9.58613571e+01\n",
      "  5.83195725e+02  1.15493876e+02  4.95862405e+01  6.62354086e+02\n",
      "  4.59912761e+01 -4.81547274e+00 -1.13761646e+03  6.74453499e+01\n",
      "  5.80209859e+00 -1.69199006e+01  4.23465971e+03  1.35258092e+01\n",
      "  1.49118765e+03  4.82535617e+02  9.16310122e+02 -3.13085203e+00\n",
      "  2.35082993e+03 -4.27279085e+00  1.07557024e+02 -1.92559412e+01\n",
      " -8.17065262e+01  3.85839261e+01  2.52004060e+02 -2.14612047e+01\n",
      " -1.23119178e+02 -2.20090905e+00  2.17511156e+03 -1.30356581e+01\n",
      "  2.98830968e+01  1.96281914e+01  2.50932633e+03  2.50513020e+01\n",
      " -4.66602621e+01  4.48689165e+02  6.48599508e+01  1.82949789e+01\n",
      "  1.15987792e+03  1.77320668e+01 -7.33839888e+00  3.29670785e+02\n",
      " -1.88436396e+00  2.24139802e+01  8.82236248e+02  4.50275952e+02\n",
      "  5.38431635e+01  3.48849085e+02 -6.71175576e+00  4.45611816e+02\n",
      " -3.47606469e+01 -2.51900318e+01 -1.77967919e-01  9.92524899e+02\n",
      "  2.64169462e+02 -5.55305640e+01 -4.84888455e+01  2.58039681e+02\n",
      " -1.49159884e+02  1.34285976e+00  2.36095821e+00  6.43751690e+00\n",
      "  4.08622506e+02  7.70648003e+03  1.48569078e+01 -1.01911080e+01\n",
      "  6.28093161e+02  1.43406721e+03  2.57834172e+00  1.27837326e+02\n",
      " -5.20072386e+00  1.26017096e+03 -1.35552116e+01 -1.39730116e+00\n",
      "  8.32998987e+02  7.71655777e+02  1.46148631e+03 -3.91765278e+01\n",
      "  2.25117070e+01  5.97400403e+02 -2.91129381e+02  1.75763515e+03\n",
      "  8.38015821e+00 -1.06296121e+01  1.43517582e+02  3.87086710e+02\n",
      "  1.86432123e+01  4.59487425e+01  3.96338093e+03  7.60901265e+02\n",
      " -2.83898999e+02  2.67824312e+03  2.59296910e+01  6.45663147e+01\n",
      "  3.36546338e-01 -1.36985039e+00 -2.66291498e+00 -5.38317816e+01\n",
      " -2.57993597e+01  6.45744698e+00  1.22311532e+01 -1.28083038e+00\n",
      "  1.29120762e+01  3.10949076e+01  9.11255038e+00  3.09332195e+02\n",
      "  1.52571891e+01  1.10902343e+03  6.95163117e+02  1.57889218e+02\n",
      " -6.29544380e+00 -2.06246869e+00  1.09813699e+02  1.15277328e+02\n",
      " -4.40158395e+01  2.29398855e+02 -4.17419323e-01  4.54641520e+02\n",
      "  3.06249801e+02  1.98774396e+03  6.99072900e+02 -1.70581614e+01\n",
      "  9.61507517e+02 -1.69966042e+01 -5.40338316e+01  4.74532023e+00\n",
      "  9.11551407e+01  4.67204727e+01  5.35132622e+01  7.49270335e+01\n",
      " -6.56893768e+00  3.20453085e+01  3.45360915e+02 -2.76400084e+00\n",
      " -1.36091094e+01  4.87817263e+02 -1.17559967e+02  1.33994225e+02\n",
      "  2.98880726e+02  4.31469211e+02  2.01485874e+03 -1.07120830e+02\n",
      "  8.25080797e+01  6.58735880e+01 -4.34662404e+01 -1.05737515e+01\n",
      " -6.83154758e+01  2.33968317e+01 -1.24144892e+01  1.62003710e+01\n",
      "  1.17463533e+03  7.03353712e+02 -9.63571041e+01 -2.13860822e-01\n",
      "  9.55222280e+00  1.59863539e+03 -8.89736908e+01  7.79115492e+01\n",
      "  1.43124313e+02 -7.20314523e+00  1.05722744e+01  4.86778513e+02\n",
      "  2.08506901e+01 -3.32983063e+00  9.87821746e+01  3.91449850e+02\n",
      "  4.43903008e+00  1.02910345e+02 -3.63666583e+00  1.26692218e+02\n",
      "  8.64561516e+01  2.27688806e+01 -4.07745367e+01 -2.53361569e+00\n",
      "  1.67960012e+01  8.06904802e+00  9.64212620e+01 -1.83654682e+00\n",
      "  1.58378155e+01  3.18460634e+01 -1.33283354e+02  2.99293843e+03\n",
      "  1.62328281e+02  1.52180305e+02 -5.05379461e+00  4.23582987e+01\n",
      "  3.32146143e+02 -7.24793181e+00  4.64402991e+01  1.32378431e+03\n",
      "  2.45584723e+02  1.17474869e+02  5.31995980e+03 -5.78071776e-01\n",
      "  2.27741306e+03  9.13324739e+01  3.42319219e+02  1.29865992e+00\n",
      "  3.51419527e+01 -1.53552740e+01 -8.78470761e+01  4.57901330e+01\n",
      "  9.81328412e+01 -1.14593028e+03 -1.45687490e+01  1.18370996e+02\n",
      " -2.53432275e+01  6.23127046e-01 -2.78182636e+01  2.28373069e+03\n",
      "  5.36939173e+02  1.51636615e+02  1.17459651e+02  1.31158334e+02\n",
      " -4.05913336e+02  1.81754570e+02  3.18733143e+02 -3.57563341e+00\n",
      " -3.58340626e+00  2.72482329e+02  2.82438317e+02  3.41102768e+01\n",
      "  1.07787852e+00 -5.64855444e+00  6.61302327e+02 -5.74348312e+02\n",
      " -3.67982481e+00  6.25621824e+01  1.00745940e+02  5.14823810e+02\n",
      "  3.47164645e+02  7.83498170e+01  3.60718717e+02 -9.45538366e+00\n",
      " -1.91441414e+01 -1.45369029e+02  2.64450858e+00  6.63660708e+02\n",
      " -3.49491516e-01 -2.13515421e+01  3.52243747e-01 -3.41874411e+02\n",
      "  5.35591823e+01  4.96067308e+02  9.91984494e+01  8.71858851e+01\n",
      " -1.78675705e+01  7.94378072e+02  7.54804351e+02 -1.07101748e+00\n",
      "  1.51816159e+02 -1.05249979e+01  3.84691151e+02  3.21897599e+01\n",
      " -3.31323796e+01 -5.50607079e+01  7.64369798e+00  8.89452728e+01\n",
      " -6.22150099e+00 -5.92273777e+00  3.85791381e+02  4.72287686e+02\n",
      "  3.70271817e+03 -5.18397541e+01  2.41435629e+01  1.81573673e+02\n",
      "  7.30519879e+01  8.16564243e+01 -1.35140085e+01 -1.89816729e+02\n",
      "  2.69244089e+02 -6.80876239e+00  5.32504365e+00  7.46211206e+01\n",
      "  1.67119760e+02  8.96245896e+02  5.56591885e+01  3.42248287e+02\n",
      " -9.49845360e+02  9.33156174e+01 -8.27705430e+00 -3.12887343e+00\n",
      "  1.59639976e+00 -8.90063675e+02  1.08065634e+03  9.70215525e+01\n",
      "  2.25204018e+02 -1.84217166e+01  1.14260893e+03  2.22333399e+02\n",
      " -1.65350388e+01  6.02165886e+01  5.31019091e+01  6.56319500e+01\n",
      " -6.50498870e+01 -7.66633562e+01  1.13077686e+02 -2.32202006e+01\n",
      "  5.89196850e+01  4.07178426e+01  2.62169929e+01  3.96134584e+02\n",
      "  6.48015834e+00 -3.18837560e+00 -1.11447987e+02 -3.24664070e+00\n",
      "  3.25249770e+02 -7.53825545e+01  4.99081879e+01 -3.93238036e+01\n",
      "  1.25062199e+02 -6.59426554e+02 -5.31914095e+01  1.39443572e+01\n",
      " -1.30634247e+01  6.71972460e+00  5.84741501e+01 -5.64895040e+01\n",
      "  5.52577787e+02 -4.65859348e+02 -5.31222521e+00  5.48047808e+01\n",
      " -2.77444211e+00  8.53796001e+00  2.48596315e+01  3.49492220e+02\n",
      "  1.80965921e+02 -1.37125446e+01  3.35791601e+03 -1.55522848e+02\n",
      "  5.66195372e+02  2.65564436e+02  3.05383118e+02  3.70303089e+02\n",
      "  1.68249782e+03  1.11845830e+03  1.73742306e+01 -3.38475698e+01\n",
      "  4.76946496e+02 -1.14944769e+02 -3.47486982e+01  4.12165210e+00\n",
      "  1.98367913e+01  1.12708323e+02 -6.12048413e+00  4.11782696e+01\n",
      "  7.09855492e+01  1.01218325e+02 -1.48954255e+00  6.83887818e+01\n",
      " -5.76048900e+00  2.34315399e+01 -6.65331848e+02  2.80495790e+02\n",
      "  6.98091106e+01 -2.03554564e+02 -2.51289131e+02  5.00144581e-01\n",
      " -1.89405520e+01  2.68512188e+00 -1.59393610e+01  1.41070848e+02\n",
      "  2.18553863e+02  1.52969588e+03  1.09025211e+01 -2.22842287e+00\n",
      "  1.97344050e+02 -3.85122314e+00  1.48323810e+02  2.39853645e+02\n",
      "  1.18342913e+02  1.66716750e+02 -1.14781739e+01  2.67920125e+02\n",
      "  1.26427236e+02  1.12933240e+01  3.33966409e+01 -4.98236311e+00\n",
      "  4.85903065e+01  3.95694101e+02  1.24698081e+01  6.75396195e+01\n",
      "  5.01453525e-02  1.39300064e+03  1.36027920e+01  6.37780028e+01\n",
      " -9.08531959e+02 -2.93151101e+00  6.61152202e+02  6.52500094e+02\n",
      "  6.29595337e+02  2.61282496e+02  1.80574727e+02  1.60685582e+00\n",
      "  1.25267339e+03  1.55981803e+02 -4.73315477e+00 -2.10257226e+01\n",
      " -9.79910357e+01  1.36427846e+03  3.70969232e+03  7.25879738e-01\n",
      " -1.48108498e+01  9.95327987e+00  3.93970854e+02  4.27946036e+01\n",
      " -8.40126836e-02  2.08125861e+00  3.26080653e+02 -1.04585487e+01\n",
      "  1.55974811e+02  1.00255539e+02 -2.23332636e+02  1.11112196e+02\n",
      " -8.82186102e+01 -1.57659719e+02 -1.62202039e+00  2.91208990e+02\n",
      "  2.61256678e+02 -3.42439834e+00  1.82970089e+02 -5.09713137e+00\n",
      "  2.78324037e+01  9.90616798e+00  4.47556063e+02  3.52230628e+02\n",
      " -3.10039950e+02 -3.99464123e+02 -1.59042749e+01  1.03806954e+01\n",
      "  2.54087716e+03  1.08636033e+02  9.44916476e+01  4.97467435e+00\n",
      " -2.49960183e+01 -5.71447603e+00  3.02232404e+02 -1.01044465e+01\n",
      " -1.80030675e+01 -2.26104210e+01  1.10504305e+03  3.05417514e+02\n",
      " -6.48208927e+01  1.23487998e+00 -9.22728858e+00 -2.43963406e+01\n",
      "  5.84138079e+01 -6.21926311e+01  1.83782908e+01  9.57492061e+02\n",
      " -2.75026059e+02  1.82510732e+01 -7.23655985e+00  2.27431511e+02\n",
      "  3.29266732e+01  1.43865637e+01 -4.05940587e+00 -5.32040202e+01\n",
      "  1.85623390e+01  1.14105751e+01 -2.66219264e+00 -2.27394441e+00\n",
      "  4.99336141e+01 -1.68323226e+01  1.06241416e+02  5.60061666e+02\n",
      " -2.69872393e+01 -4.17355716e+01  2.21720231e-01 -3.30665110e+02\n",
      "  5.16747348e+00  1.54049769e+02  6.18185184e+02  4.04807168e+02\n",
      "  4.68447174e+02  1.49087113e+02  2.28377674e+02  2.33231783e+01\n",
      "  1.24126393e+03  3.45905306e+02 -3.09513095e+02 -1.02296229e+01\n",
      "  2.62618400e+03  8.76473241e+02  1.42622151e+02 -9.72757945e+02\n",
      "  1.06975897e+02 -8.98442753e+00  2.31252601e+02  2.66267241e+03\n",
      " -5.48039604e-01  6.80508006e+02  2.34231885e+02  5.82226804e+01\n",
      " -1.64484813e+00  3.38559430e+01 -3.04286092e+01 -5.94510063e+01\n",
      "  3.08706882e+02  3.54891586e+02  2.23013445e+02  2.00027555e+02\n",
      "  2.50282051e+01  1.44663500e+01 -2.46909494e+01  1.01552673e+01\n",
      " -6.86549387e+01  4.64279619e+01 -2.41752400e+01 -6.31208434e+00\n",
      " -1.23762292e+01 -7.65907379e+01  6.31018040e+01 -5.95712641e+00\n",
      " -4.33105874e+00  1.53352031e+03 -1.78284883e+01 -2.00811794e+01\n",
      "  2.39812914e+02  6.39143801e+00 -2.55371659e+02  6.30158065e+00\n",
      "  1.03014295e+03 -1.71507199e+01  1.10120953e+02 -5.06271149e+00\n",
      " -1.75890016e+02 -2.10772507e+01  1.02067303e+03  1.44745909e+02\n",
      "  7.16470974e+02  5.26747835e+00  3.74897146e+01  2.33238619e+02\n",
      "  2.00120662e+03 -1.72825444e+01  1.81598526e+03  5.57375869e+02\n",
      "  1.42320434e+02  3.41169134e+01 -8.71841523e+00  2.04872804e+01\n",
      "  6.26438977e+01  3.67647987e+00  1.36301732e+02  1.93668542e+01\n",
      "  1.71389071e+02  1.68272431e+02  2.16010132e+02  1.15964019e+00\n",
      " -4.62453737e+01 -7.33699615e+01  1.80174639e+01  1.37937085e+02\n",
      "  2.93567870e+01 -1.20653941e+01 -1.47469578e+02 -2.14777334e+01\n",
      "  9.81554627e+01 -2.77462680e+00 -1.58110601e+02  3.32546072e+02\n",
      " -4.69729216e+01  5.05125420e+02  1.04228044e+01  3.32280106e+01\n",
      " -1.12477408e+01  1.64159732e+02  1.24344393e+03  6.71059366e+01\n",
      " -2.54762899e+02  2.40940866e+02  3.12650357e+03  1.67613060e+01\n",
      "  5.36356700e+00  1.55711092e+01  5.72492612e+02  1.05823252e+02\n",
      " -1.53206049e+00  3.68922085e+01  2.75639965e+02  2.41652499e+02\n",
      "  2.45286908e+02 -5.11006067e+00  1.15448592e+01  2.58820448e+02\n",
      "  6.23952178e+02  1.13822337e+02  3.64027478e+02  8.50231437e+02\n",
      " -3.13273125e+00 -7.95320143e+01  9.81072104e+02 -2.92390884e+00]\n"
     ]
    },
    {
     "data": {
      "image/png": "[encoded data removed]",
      "text/plain": [
       "<Figure size 640x480 with 1 Axes>"
      ]
     },
     "metadata": {},
     "output_type": "display_data"
    }
   ],
   "source": [
    "vec_y = vec_x**2 + 2*vec_x + 5\n",
    "\n",
    "print(vec_x * vec_y)\n",
    "\n",
    "plt.scatter(x= vec_x, y = vec_y, color= \"purple\")\n",
    "plt.ylabel(\"vec_y\")\n",
    "plt.xlabel(\"vec_x\")\n",
    "plt.title(\"Vec_y versus Vec_x\")\n",
    "plt.show()"
   ]
  },
  {
   "attachments": {},
   "cell_type": "markdown",
   "metadata": {},
   "source": [
    "<font size = \"5\">\n",
    "\n",
    "(c) Creates two lists with ...\n",
    "\n",
    "- The names of the datasets\n",
    "- The years of the datasets (type manually based on the dataset names)"
   ]
  },
  {
   "cell_type": "code",
   "execution_count": 17,
   "metadata": {},
   "outputs": [],
   "source": [
    "features = pd.read_csv(\"data/features.csv\")\n",
    "features_stored = pd.read_csv(\"data/features_stored.csv\")\n",
    "\n",
    "dataset_names = [\"mpg\", \"cylinders\", \"displacement\", \"horespower\", \"weight\", \"acceleration\", \"vehicle_id\"]"
   ]
  },
  {
   "attachments": {},
   "cell_type": "markdown",
   "metadata": {},
   "source": [
    "<font size = \"5\">\n",
    "\n",
    "(d) Create a loop that ...\n",
    "\n",
    "\n",
    "- Goes over the list of years\n",
    "- If the year $\\ge$ 2010, print the message\n",
    "\n",
    "$\\qquad$ \"This dataset contains information on or after 2010.\n",
    "\n",
    "- If the year $<$ 2010, print the message\n",
    "\n",
    "$\\qquad$ \"This dataset contains information before 2010\""
   ]
  },
  {
   "attachments": {},
   "cell_type": "markdown",
   "metadata": {},
   "source": [
    "<font size = \"5\">\n",
    "\n",
    "(e) Create a for loop that ...\n",
    "\n",
    "- Reads multiple \".csv\" files and\n",
    "- Converts them to \".xlsx\" files\n",
    "- Note: Make sure to know how to read/write in subfolders\n",
    "\n",
    "Hint: Create a new list with the \".xslx\" names and use a for loop with numbering"
   ]
  },
  {
   "attachments": {},
   "cell_type": "markdown",
   "metadata": {},
   "source": [
    "<font size = \"5\">\n",
    "\n",
    "(f) Create a loop that ...\n",
    "\n",
    "- Reads multiple \".csv\" files\n",
    "- Creates a numeric vector by \n",
    "    - Adding/Subtracting/Mutiplying/Diving two or more variables \n",
    "- Plots a histogram of the transformed variable\n",
    "    - Numbers the figures\n",
    "    - Labels the axes\n",
    "    - Labels the title"
   ]
  }
 ],
 "metadata": {
  "kernelspec": {
   "display_name": "Python 3",
   "language": "python",
   "name": "python3"
  },
  "language_info": {
   "codemirror_mode": {
    "name": "ipython",
    "version": 3
   },
   "file_extension": ".py",
   "mimetype": "text/x-python",
   "name": "python",
   "nbconvert_exporter": "python",
   "pygments_lexer": "ipython3",
   "version": "3.11.1"
  },
  "orig_nbformat": 4,
  "vscode": {
   "interpreter": {
    "hash": "aee8b7b246df8f9039afb4144a1f6fd8d2ca17a180786b69acc140d282b71a49"
   }
  }
 },
 "nbformat": 4,
 "nbformat_minor": 2
}
