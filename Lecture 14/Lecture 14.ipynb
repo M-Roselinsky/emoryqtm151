{
 "cells": [
  {
   "attachments": {},
   "cell_type": "markdown",
   "metadata": {},
   "source": [
    "# <span style=\"color:darkblue\"> Lecture 14 - Aggregating Data </span>\n",
    "\n",
    "<font size = \"5\">\n",
    "\n",
    "In the previous class we covered\n",
    "\n",
    "- Missing values\n",
    "- The basics of data cleaning\n",
    "\n",
    "This class we will talk about \n",
    "- Computing aggregate statistics by group\n",
    "- Introduction to merging"
   ]
  },
  {
   "attachments": {},
   "cell_type": "markdown",
   "metadata": {},
   "source": [
    "# <span style=\"color:darkblue\"> I. Import Libraries and Data </span>\n"
   ]
  },
  {
   "attachments": {},
   "cell_type": "markdown",
   "metadata": {},
   "source": [
    "<font size = \"5\">\n",
    "Key libraries"
   ]
  },
  {
   "cell_type": "code",
   "execution_count": 2,
   "metadata": {},
   "outputs": [],
   "source": [
    "import numpy as np\n",
    "import pandas as pd\n",
    "import matplotlib.pyplot as plt"
   ]
  },
  {
   "attachments": {},
   "cell_type": "markdown",
   "metadata": {},
   "source": [
    "<font size = \"5\">\n",
    "\n",
    "Read dataset on car racing circuits\n",
    "\n",
    "- https://en.wikipedia.org/wiki/Formula_One <br>\n",
    "- [See Data Source](https://www.kaggle.com/datasets/rohanrao/formula-1-world-championship-1950-2020)"
   ]
  },
  {
   "cell_type": "code",
   "execution_count": 3,
   "metadata": {},
   "outputs": [],
   "source": [
    "results = pd.read_csv(\"data_raw/results.csv\")"
   ]
  },
  {
   "attachments": {},
   "cell_type": "markdown",
   "metadata": {},
   "source": [
    "<font size = \"5\">\n",
    "\n",
    "The dataset \"codebook\" is a table with ...\n",
    "\n",
    "- Key column information\n",
    "- Main things:  Field, Type, Key, and Description\n",
    "\n",
    "<img src=\"figures/codebook_races.png\" alt=\"drawing\" width=\"600\"/>\n"
   ]
  },
  {
   "cell_type": "code",
   "execution_count": 4,
   "metadata": {},
   "outputs": [],
   "source": [
    "# The codebook contains basic about the columns\n",
    "# \"Field\" is the name given to the name of the column\n",
    "# \"Type\"  is the variable type:\n",
    "#         integer (int)\n",
    "#         string (varchar - \"variable character\")\n",
    "#         float (float)\n",
    "#         The number in parenthesis is the maximum number of characters/digits\n",
    "#         For most purposes we can ignore the numbers in parentheses.\n",
    "# \"Key\" denotes whether this is the primary key \"PRI\" (also known as the identifier)\n",
    "#         This is a column with unique values, that uniquely identifies each row\n",
    "# \"Description\" contains a label with the content of the variable"
   ]
  },
  {
   "attachments": {},
   "cell_type": "markdown",
   "metadata": {},
   "source": [
    "<font size = \"5\">\n",
    "\n",
    "Get column names + types\n",
    "\n",
    "- Do types match the codebook?\n",
    "- If not the data may need to be cleaned"
   ]
  },
  {
   "cell_type": "code",
   "execution_count": 5,
   "metadata": {},
   "outputs": [
    {
     "data": {
      "text/plain": [
       "resultId             int64\n",
       "raceId               int64\n",
       "driverId             int64\n",
       "constructorId        int64\n",
       "number              object\n",
       "grid                 int64\n",
       "position            object\n",
       "positionText        object\n",
       "positionOrder        int64\n",
       "points             float64\n",
       "laps                 int64\n",
       "time                object\n",
       "milliseconds        object\n",
       "fastestLap          object\n",
       "rank                object\n",
       "fastestLapTime      object\n",
       "fastestLapSpeed     object\n",
       "statusId             int64\n",
       "dtype: object"
      ]
     },
     "execution_count": 5,
     "metadata": {},
     "output_type": "execute_result"
    }
   ],
   "source": [
    "# This code displays column types\n",
    "# \"int\" or \"float\" objects are numneric\n",
    "# \"object\" typically denotes strings\n",
    "# If a column that's supposed to be \"numeric\" but appears as \"object\"\n",
    "# then it needs to be cleaned and converted to numeric \n",
    "\n",
    "results.dtypes\n"
   ]
  },
  {
   "attachments": {},
   "cell_type": "markdown",
   "metadata": {},
   "source": [
    "<font size = \"5\">\n",
    "\n",
    "Try it yourself!\n",
    "\n",
    "- How many rows does the dataset have?\n",
    "- How many unique values are there for the columns <br>\n",
    "$\\qquad$ \"resultId\"? <br>\n",
    "$\\qquad$ \"raceId\"? <br>\n",
    "$\\qquad$ \"driverId\"? <br>\n",
    "\n",
    "HINT: Use the \"len()\" and the \"pd.unique()\" functions"
   ]
  },
  {
   "cell_type": "code",
   "execution_count": 19,
   "metadata": {},
   "outputs": [
    {
     "name": "stdout",
     "output_type": "stream",
     "text": [
      "25840\n",
      "25840\n",
      "1079\n",
      "855\n"
     ]
    }
   ],
   "source": [
    "# Write your own code here\n",
    "print(len(results))\n",
    "print(len(pd.unique(results[\"resultId\"])))\n",
    "print(len(pd.unique(results[\"raceId\"])))\n",
    "print(len(pd.unique(results[\"driverId\"])))"
   ]
  },
  {
   "attachments": {},
   "cell_type": "markdown",
   "metadata": {},
   "source": [
    "# <span style=\"color:darkblue\"> II. Aggregate + groupby  </span>\n",
    "\n"
   ]
  },
  {
   "attachments": {},
   "cell_type": "markdown",
   "metadata": {},
   "source": [
    "<font size = \"5\">\n",
    "\n",
    "Splitting code into multiple lines\n",
    "\n",
    "- Makes it easier to read\n",
    "- Simply wrap the code in round parentheses \"()\""
   ]
  },
  {
   "cell_type": "code",
   "execution_count": 20,
   "metadata": {},
   "outputs": [],
   "source": [
    "# The following code computes descriptive statistics for points \n",
    "# Wrapping the code in parentheses \"()\" allows you to split it into multiple \n",
    "# lines. It's considered good practice to make each line less than 80 characters\n",
    "# This makes it easier to scroll up and down without going sideways.\n",
    "\n",
    "descriptives_singleline = results[\"points\"].describe()\n",
    "descriptives_multiline = (results[\"points\"]\n",
    "                          .describe())"
   ]
  },
  {
   "attachments": {},
   "cell_type": "markdown",
   "metadata": {},
   "source": [
    "<font size = \"5\">\n",
    "\n",
    "Aggregate statistics "
   ]
  },
  {
   "cell_type": "code",
   "execution_count": 21,
   "metadata": {},
   "outputs": [
    {
     "data": {
      "text/html": [
       "<div>\n",
       "<style scoped>\n",
       "    .dataframe tbody tr th:only-of-type {\n",
       "        vertical-align: middle;\n",
       "    }\n",
       "\n",
       "    .dataframe tbody tr th {\n",
       "        vertical-align: top;\n",
       "    }\n",
       "\n",
       "    .dataframe thead th {\n",
       "        text-align: right;\n",
       "    }\n",
       "</style>\n",
       "<table border=\"1\" class=\"dataframe\">\n",
       "  <thead>\n",
       "    <tr style=\"text-align: right;\">\n",
       "      <th></th>\n",
       "      <th>points</th>\n",
       "    </tr>\n",
       "  </thead>\n",
       "  <tbody>\n",
       "    <tr>\n",
       "      <th>mean_points</th>\n",
       "      <td>1.877053</td>\n",
       "    </tr>\n",
       "    <tr>\n",
       "      <th>sd_points</th>\n",
       "      <td>4.169849</td>\n",
       "    </tr>\n",
       "    <tr>\n",
       "      <th>min_points</th>\n",
       "      <td>0.000000</td>\n",
       "    </tr>\n",
       "    <tr>\n",
       "      <th>max_points</th>\n",
       "      <td>50.000000</td>\n",
       "    </tr>\n",
       "    <tr>\n",
       "      <th>count_obs</th>\n",
       "      <td>25840.000000</td>\n",
       "    </tr>\n",
       "  </tbody>\n",
       "</table>\n",
       "</div>"
      ],
      "text/plain": [
       "                   points\n",
       "mean_points      1.877053\n",
       "sd_points        4.169849\n",
       "min_points       0.000000\n",
       "max_points      50.000000\n",
       "count_obs    25840.000000"
      ]
     },
     "metadata": {},
     "output_type": "display_data"
    }
   ],
   "source": [
    "# The \".agg()\" subfunction computes aggregate statistics\n",
    "# The syntax is (\"column_name\",\"function_name\")\n",
    "# The first argument is the column name\n",
    "# The second argument is the function_name\n",
    "# The command works with single quotations '...' or double \"...\"\n",
    "\n",
    "results_agg = results.agg(mean_points = ('points','mean'),\n",
    "                          sd_points =   ('points','std'),\n",
    "                          min_points =  ('points','min'),\n",
    "                          max_points =  ('points','max'),\n",
    "                          count_obs   = ('points',len))\n",
    "\n",
    "display(results_agg)"
   ]
  },
  {
   "attachments": {},
   "cell_type": "markdown",
   "metadata": {},
   "source": [
    "<font size = \"5\" >\n",
    "\n",
    "Groupby + Aggregate statistics\n",
    "\n",
    "<img src=\"figures/agg.png\" alt=\"drawing\" width=\"400\"/>"
   ]
  },
  {
   "cell_type": "code",
   "execution_count": 24,
   "metadata": {},
   "outputs": [
    {
     "data": {
      "text/plain": [
       "855"
      ]
     },
     "execution_count": 24,
     "metadata": {},
     "output_type": "execute_result"
    }
   ],
   "source": [
    "# In this cases drivers engage in multiple car races\n",
    "# We can compute the aggregate statistics for each specific driver across\n",
    "# multiple car races\n",
    "\n",
    "drivers_agg = (results.groupby(\"driverId\")\n",
    "                      .agg(mean_points = ('points','mean'),\n",
    "                           sd_points =   ('points','std'),\n",
    "                           min_points =  ('points','min'),\n",
    "                           max_points =  ('points','max'),\n",
    "                           count_obs   = ('points',len)))\n",
    "\n",
    "len(drivers_agg)"
   ]
  },
  {
   "attachments": {},
   "cell_type": "markdown",
   "metadata": {},
   "source": [
    "<font size = \"5\" >\n",
    "Groupby + Aggregate statistics (multigroup)"
   ]
  },
  {
   "cell_type": "code",
   "execution_count": 25,
   "metadata": {},
   "outputs": [
    {
     "data": {
      "text/plain": [
       "12568"
      ]
     },
     "execution_count": 25,
     "metadata": {},
     "output_type": "execute_result"
    }
   ],
   "source": [
    "# We can aggregate statistics from multiple columns by\n",
    "# entering a list of column names in \"groupby\"\n",
    "# In this case \"constructor\" in this case denotes the team \n",
    "# The following computes aggregate point stats for each (team, race) combination\n",
    "\n",
    "teamrace_agg = (results.groupby([\"raceId\",\"constructorId\"])\n",
    "                       .agg(mean_points = ('points','mean'),\n",
    "                            sd_points =   ('points','std'),\n",
    "                            min_points =  ('points','min'),\n",
    "                            max_points =  ('points','max'),\n",
    "                            count_obs   = ('points',len)))\n",
    "\n",
    "len(teamrace_agg)"
   ]
  },
  {
   "attachments": {},
   "cell_type": "markdown",
   "metadata": {},
   "source": [
    "<font size = \"5\">\n",
    "\n",
    "Filtering + Grouping + Aggregating: <br>\n",
    "\n",
    "```python \n",
    ".query().groupby().agg()\n",
    "```\n",
    "\n",
    "- This sequential syntax is known as \"chaining\"\n"
   ]
  },
  {
   "cell_type": "code",
   "execution_count": 26,
   "metadata": {},
   "outputs": [],
   "source": [
    "# The following gets a subset of the data using .query()\n",
    "# In this case we subset the data before computing aggregate statistics\n",
    "# Note: \"filtering\" is often the word used to obtain a subset\n",
    "\n",
    "teamrace_agg = (results.query(\"raceId >= 500\")\n",
    "                       .groupby([\"raceId\",\"constructorId\"])\n",
    "                        .agg(mean_points = ('points','mean'),\n",
    "                             sd_points =   ('points','std'),\n",
    "                             min_points =  ('points','min'),\n",
    "                             max_points =  ('points','max'),\n",
    "                             count_obs   = ('points',len)))\n"
   ]
  },
  {
   "attachments": {},
   "cell_type": "markdown",
   "metadata": {},
   "source": [
    "<font size = \"5\">\n",
    "\n",
    "Try it yourself!\n",
    "\n",
    "- Create a new dataset by chaining that <br>\n",
    "groups by \"raceId\" then computes the <br>\n",
    "aggregate statistics: \"points\" average <br> and \"laps\" average\n"
   ]
  },
  {
   "cell_type": "code",
   "execution_count": 30,
   "metadata": {},
   "outputs": [
    {
     "data": {
      "text/html": [
       "<div>\n",
       "<style scoped>\n",
       "    .dataframe tbody tr th:only-of-type {\n",
       "        vertical-align: middle;\n",
       "    }\n",
       "\n",
       "    .dataframe tbody tr th {\n",
       "        vertical-align: top;\n",
       "    }\n",
       "\n",
       "    .dataframe thead th {\n",
       "        text-align: right;\n",
       "    }\n",
       "</style>\n",
       "<table border=\"1\" class=\"dataframe\">\n",
       "  <thead>\n",
       "    <tr style=\"text-align: right;\">\n",
       "      <th></th>\n",
       "      <th>mean_points</th>\n",
       "      <th>mean_laps</th>\n",
       "    </tr>\n",
       "    <tr>\n",
       "      <th>raceId</th>\n",
       "      <th></th>\n",
       "      <th></th>\n",
       "    </tr>\n",
       "  </thead>\n",
       "  <tbody>\n",
       "    <tr>\n",
       "      <th>1</th>\n",
       "      <td>1.950</td>\n",
       "      <td>50.25</td>\n",
       "    </tr>\n",
       "    <tr>\n",
       "      <th>2</th>\n",
       "      <td>0.975</td>\n",
       "      <td>27.70</td>\n",
       "    </tr>\n",
       "    <tr>\n",
       "      <th>3</th>\n",
       "      <td>1.950</td>\n",
       "      <td>51.15</td>\n",
       "    </tr>\n",
       "    <tr>\n",
       "      <th>4</th>\n",
       "      <td>1.950</td>\n",
       "      <td>56.25</td>\n",
       "    </tr>\n",
       "    <tr>\n",
       "      <th>5</th>\n",
       "      <td>1.950</td>\n",
       "      <td>47.10</td>\n",
       "    </tr>\n",
       "    <tr>\n",
       "      <th>...</th>\n",
       "      <td>...</td>\n",
       "      <td>...</td>\n",
       "    </tr>\n",
       "    <tr>\n",
       "      <th>1092</th>\n",
       "      <td>5.050</td>\n",
       "      <td>25.20</td>\n",
       "    </tr>\n",
       "    <tr>\n",
       "      <th>1093</th>\n",
       "      <td>5.100</td>\n",
       "      <td>49.50</td>\n",
       "    </tr>\n",
       "    <tr>\n",
       "      <th>1094</th>\n",
       "      <td>5.100</td>\n",
       "      <td>68.90</td>\n",
       "    </tr>\n",
       "    <tr>\n",
       "      <th>1095</th>\n",
       "      <td>5.100</td>\n",
       "      <td>62.80</td>\n",
       "    </tr>\n",
       "    <tr>\n",
       "      <th>1096</th>\n",
       "      <td>5.100</td>\n",
       "      <td>55.85</td>\n",
       "    </tr>\n",
       "  </tbody>\n",
       "</table>\n",
       "<p>1079 rows × 2 columns</p>\n",
       "</div>"
      ],
      "text/plain": [
       "        mean_points  mean_laps\n",
       "raceId                        \n",
       "1             1.950      50.25\n",
       "2             0.975      27.70\n",
       "3             1.950      51.15\n",
       "4             1.950      56.25\n",
       "5             1.950      47.10\n",
       "...             ...        ...\n",
       "1092          5.050      25.20\n",
       "1093          5.100      49.50\n",
       "1094          5.100      68.90\n",
       "1095          5.100      62.80\n",
       "1096          5.100      55.85\n",
       "\n",
       "[1079 rows x 2 columns]"
      ]
     },
     "execution_count": 30,
     "metadata": {},
     "output_type": "execute_result"
    }
   ],
   "source": [
    "# Write your own code\n",
    "\n",
    "raceId_agg = (results.groupby(\"raceId\")\n",
    "                     .agg(mean_points = ('points', 'mean'),\n",
    "                          mean_laps = ('laps', 'mean')))\n",
    "\n",
    "raceId_agg"
   ]
  },
  {
   "attachments": {},
   "cell_type": "markdown",
   "metadata": {},
   "source": [
    "<font size = \"5\">\n",
    "\n",
    "Try it yourself!\n",
    "\n",
    "- Create a new dataset by chaining that <br>\n",
    "groups by \"constructorId\" (the team) then <br> \n",
    "computes the average number of \"points\"\n",
    "- Add a chain \".sort_values(...,ascending = False)\" <br>\n",
    "to sort by team points in desceding order\n"
   ]
  },
  {
   "cell_type": "code",
   "execution_count": 33,
   "metadata": {},
   "outputs": [
    {
     "data": {
      "text/html": [
       "<div>\n",
       "<style scoped>\n",
       "    .dataframe tbody tr th:only-of-type {\n",
       "        vertical-align: middle;\n",
       "    }\n",
       "\n",
       "    .dataframe tbody tr th {\n",
       "        vertical-align: top;\n",
       "    }\n",
       "\n",
       "    .dataframe thead th {\n",
       "        text-align: right;\n",
       "    }\n",
       "</style>\n",
       "<table border=\"1\" class=\"dataframe\">\n",
       "  <thead>\n",
       "    <tr style=\"text-align: right;\">\n",
       "      <th></th>\n",
       "      <th>mean_points</th>\n",
       "    </tr>\n",
       "    <tr>\n",
       "      <th>constructorId</th>\n",
       "      <th></th>\n",
       "    </tr>\n",
       "  </thead>\n",
       "  <tbody>\n",
       "    <tr>\n",
       "      <th>131</th>\n",
       "      <td>12.363643</td>\n",
       "    </tr>\n",
       "    <tr>\n",
       "      <th>9</th>\n",
       "      <td>9.117816</td>\n",
       "    </tr>\n",
       "    <tr>\n",
       "      <th>23</th>\n",
       "      <td>5.058824</td>\n",
       "    </tr>\n",
       "    <tr>\n",
       "      <th>208</th>\n",
       "      <td>4.584416</td>\n",
       "    </tr>\n",
       "    <tr>\n",
       "      <th>6</th>\n",
       "      <td>4.317968</td>\n",
       "    </tr>\n",
       "    <tr>\n",
       "      <th>...</th>\n",
       "      <td>...</td>\n",
       "    </tr>\n",
       "    <tr>\n",
       "      <th>76</th>\n",
       "      <td>0.000000</td>\n",
       "    </tr>\n",
       "    <tr>\n",
       "      <th>77</th>\n",
       "      <td>0.000000</td>\n",
       "    </tr>\n",
       "    <tr>\n",
       "      <th>78</th>\n",
       "      <td>0.000000</td>\n",
       "    </tr>\n",
       "    <tr>\n",
       "      <th>130</th>\n",
       "      <td>0.000000</td>\n",
       "    </tr>\n",
       "    <tr>\n",
       "      <th>112</th>\n",
       "      <td>0.000000</td>\n",
       "    </tr>\n",
       "  </tbody>\n",
       "</table>\n",
       "<p>210 rows × 1 columns</p>\n",
       "</div>"
      ],
      "text/plain": [
       "               mean_points\n",
       "constructorId             \n",
       "131              12.363643\n",
       "9                 9.117816\n",
       "23                5.058824\n",
       "208               4.584416\n",
       "6                 4.317968\n",
       "...                    ...\n",
       "76                0.000000\n",
       "77                0.000000\n",
       "78                0.000000\n",
       "130               0.000000\n",
       "112               0.000000\n",
       "\n",
       "[210 rows x 1 columns]"
      ]
     },
     "execution_count": 33,
     "metadata": {},
     "output_type": "execute_result"
    }
   ],
   "source": [
    "# Write your own code\n",
    "teampoints_agg = (results.groupby(\"constructorId\")\n",
    "                         .agg(mean_points = ('points', 'mean'))\n",
    "                         .sort_values(by = \"mean_points\" , ascending = False))\n",
    "\n",
    "\n",
    "teampoints_agg"
   ]
  },
  {
   "attachments": {},
   "cell_type": "markdown",
   "metadata": {},
   "source": [
    "# <span style=\"color:darkblue\"> III. Relative statistics within group </span>\n",
    "\n"
   ]
  },
  {
   "attachments": {},
   "cell_type": "markdown",
   "metadata": {},
   "source": [
    "<font size = \"5\">\n",
    "\n",
    "Merging\n",
    "\n",
    "<img src=\"figures/merge_stats.png\" alt=\"drawing\" width=\"600\"/>\n"
   ]
  },
  {
   "cell_type": "code",
   "execution_count": 34,
   "metadata": {},
   "outputs": [],
   "source": [
    "# This command merges the \"aggregate\" information in \"driver_agg\" into\n",
    "# \"results\" as shown in the figure\n",
    "# The merging variable \"on\" is determined by \"driverId\", which is a column\n",
    "# that is common to both datasets\n",
    "# \"how = left\" indicates that the left dataset is the baseline\n",
    "#\n",
    "# Note: For this method to work well \"driverId\" needs to contain unique alues\n",
    "# in \"drivers_agg\". If not you may need to clean the data beforehand\n",
    "\n",
    "results_merge = pd.merge(results,\n",
    "                         drivers_agg,\n",
    "                         on = \"driverId\",\n",
    "                         how = \"left\")\n"
   ]
  },
  {
   "attachments": {},
   "cell_type": "markdown",
   "metadata": {},
   "source": [
    "<font size = \"5\">\n",
    "\n",
    "Check out another approach to compute <br>\n",
    "aggregate statistics using ``` .transform() ```<br>\n",
    " in the optional lecture!"
   ]
  },
  {
   "attachments": {},
   "cell_type": "markdown",
   "metadata": {},
   "source": [
    "<font size = \"5\">\n",
    "\n",
    "Try it yourself!\n",
    "\n",
    "- Compute a scatter plot with ...\n",
    "- \"points\" (y-axis) vs \"mean_points\" (x-axis)\n",
    "\n",
    "Note: This plots tells you how much a driver's <br>\n",
    "performance on individual races deviates from <br>\n",
    "their overall average"
   ]
  },
  {
   "cell_type": "code",
   "execution_count": 44,
   "metadata": {},
   "outputs": [
    {
     "data": {
      "text/plain": [
       "Text(0.5, 1.0, 'Average Points Vs. Points Per Individual')"
      ]
     },
     "execution_count": 44,
     "metadata": {},
     "output_type": "execute_result"
    },
    {
     "data": {
      "image/png": "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",
      "text/plain": [
       "<Figure size 640x480 with 1 Axes>"
      ]
     },
     "metadata": {},
     "output_type": "display_data"
    }
   ],
   "source": [
    "# Write your own code\n",
    "\n",
    "plt.scatter(x = results_merge[\"mean_points\"], y = results_merge[\"points\"])\n",
    "plt.xlabel(\"Average Points\")\n",
    "plt.ylabel(\"Points\")\n",
    "plt.title(\"Average Points Vs. Points Per Individual\")\n",
    "\n",
    "#small average --> low variablility "
   ]
  },
  {
   "attachments": {},
   "cell_type": "markdown",
   "metadata": {},
   "source": [
    "<font size = \"5\">\n",
    "\n",
    "Try it yourself!\n",
    "\n",
    "- Merge the \"teamrace_agg\" data into \"results_raw\"\n",
    "- This time use the option:\n",
    "\n",
    "$\\qquad$ ```on = [\"raceId\",\"constructorId\"]```"
   ]
  },
  {
   "cell_type": "code",
   "execution_count": 45,
   "metadata": {},
   "outputs": [
    {
     "data": {
      "text/plain": [
       "25840"
      ]
     },
     "execution_count": 45,
     "metadata": {},
     "output_type": "execute_result"
    }
   ],
   "source": [
    "# Write your own code\n",
    "\n",
    "merge_results = pd.merge(results,\n",
    "                         teamrace_agg,\n",
    "                         on = [\"raceId\", \"constructorId\"],\n",
    "                         how = \"left\")\n",
    "len(merge_results)"
   ]
  }
 ],
 "metadata": {
  "kernelspec": {
   "display_name": "Python 3",
   "language": "python",
   "name": "python3"
  },
  "language_info": {
   "codemirror_mode": {
    "name": "ipython",
    "version": 3
   },
   "file_extension": ".py",
   "mimetype": "text/x-python",
   "name": "python",
   "nbconvert_exporter": "python",
   "pygments_lexer": "ipython3",
<<<<<<< Updated upstream
<<<<<<< Updated upstream
<<<<<<< Updated upstream
<<<<<<< Updated upstream
   "version": "3.11.1 (v3.11.1:a7a450f84a, Dec  6 2022, 15:24:06) [Clang 13.0.0 (clang-1300.0.29.30)]"
=======
   "version": "3.11.1"
>>>>>>> Stashed changes
=======
   "version": "3.11.1"
>>>>>>> Stashed changes
=======
   "version": "3.11.1"
>>>>>>> Stashed changes
=======
   "version": "3.11.1"
>>>>>>> Stashed changes
  },
  "orig_nbformat": 4,
  "vscode": {
   "interpreter": {
    "hash": "aee8b7b246df8f9039afb4144a1f6fd8d2ca17a180786b69acc140d282b71a49"
   }
  }
 },
 "nbformat": 4,
 "nbformat_minor": 2
}
