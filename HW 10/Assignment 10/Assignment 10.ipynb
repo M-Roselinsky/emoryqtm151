{
 "cells": [
  {
   "attachments": {},
   "cell_type": "markdown",
   "metadata": {},
   "source": [
    "# Assignment 10"
   ]
  },
  {
   "attachments": {},
   "cell_type": "markdown",
   "metadata": {},
   "source": [
    "## Try to submit as an HTML file"
   ]
  },
  {
   "attachments": {},
   "cell_type": "markdown",
   "metadata": {},
   "source": [
    "<font size = \"5\">\n",
    "Print your name below"
   ]
  },
  {
   "cell_type": "code",
   "execution_count": 1,
   "metadata": {},
   "outputs": [
    {
     "name": "stdout",
     "output_type": "stream",
     "text": [
      "Mia Roselinsky\n"
     ]
    }
   ],
   "source": [
    "print(\"Mia Roselinsky\")"
   ]
  },
  {
   "attachments": {},
   "cell_type": "markdown",
   "metadata": {},
   "source": [
    "<font size = \"5\">\n",
    "\n",
    "Import the \"pandas\" and \"matplotlib.pyplot\" libraries."
   ]
  },
  {
   "cell_type": "code",
   "execution_count": 1,
   "metadata": {},
   "outputs": [],
   "source": [
    "# Write your answer here:\n",
    "\n",
    "import pandas as pd\n",
    "import matplotlib.pyplot as plt\n"
   ]
  },
  {
   "attachments": {},
   "cell_type": "markdown",
   "metadata": {},
   "source": [
    "<font size = \"5\">\n",
    "\n",
    "In this assignment, we will work with a World Bank <br>\n",
    "dataset on the proportion of urban population across <br>\n",
    "countries, from 2016-2020.\n",
    "\n",
    "- This is an example of a \"panel\"/\"longitudinal\" dataset <br>\n",
    " which contains information about the same unit (country) <br>\n",
    " over time.\n",
    " - This is in \"long\" format (see Lecture 22)"
   ]
  },
  {
   "attachments": {},
   "cell_type": "markdown",
   "metadata": {},
   "source": [
    "<font size = \"5\">\n",
    "\n",
    "(a) Import data and parse dates \n",
    "\n",
    "<font size = \"3\">\n",
    "\n",
    "\n",
    "- Import \"data_raw/wdi_long.csv\"\n",
    "- Create a new column called \"date\" which uses ```pd.to_datetime(...,format = ...)``` <br>\n",
    "to convert year to a date format\n",
    "- To get full points use wild cards to establish the format.\n",
    "\n",
    "Hint: See Lecture 21 for information about wild cards"
   ]
  },
  {
   "cell_type": "code",
   "execution_count": 2,
   "metadata": {},
   "outputs": [],
   "source": [
    "# Write your own code\n",
    "wdi_long = pd.read_csv(\"data_raw/wdi_long.csv\")\n"
   ]
  },
  {
   "attachments": {},
   "cell_type": "markdown",
   "metadata": {},
   "source": [
    "<font size = \"5\">\n",
    "\n",
    "(b)  Sort by two columns\n",
    "\n",
    "<font size = \"3\">\n",
    "\n",
    "- Create a new dataset \"data_sorted\" that sorts by \"country_name\" and \"date\"\n",
    "\n",
    "HINT: Include a list of column names as the main sorting argument."
   ]
  },
  {
   "cell_type": "code",
   "execution_count": null,
   "metadata": {},
   "outputs": [],
   "source": [
    "# Write your own code\n",
    "\n"
   ]
  },
  {
   "attachments": {},
   "cell_type": "markdown",
   "metadata": {},
   "source": [
    "<font size = \"5\">\n",
    "\n",
    "(c) Compute grouped time differences\n",
    "\n",
    "<font size = \"3\">\n",
    "\n",
    "**Example**\n",
    "- Each country has data for multiple dates\n",
    "- The following code calculates the time-difference between each date <br>\n",
    "```\n",
    "(data_sorted.groupby(\"country_name\")[\"date\"]\n",
    "            .diff())\n",
    "```\n",
    "\n",
    "**Instructions**:\n",
    "- Now, instead of [\"date\"] use ```[\"prop_urban\"]```\n",
    "- Store the result in a new column called \"diff_prop_urban\"\n",
    "- This adds a new column with the country-level changes in <br>\n",
    "the urban propulaton each year\n",
    "\n",
    "HINT: Check Lecture 22 for using ```.diff()``` <br>\n",
    "Note: Using \".groupby()\" is important so that each country is analyzed <br>\n",
    "separately."
   ]
  },
  {
   "cell_type": "code",
   "execution_count": null,
   "metadata": {},
   "outputs": [],
   "source": [
    "# Write your own code\n",
    "\n"
   ]
  },
  {
   "attachments": {},
   "cell_type": "markdown",
   "metadata": {},
   "source": [
    "<font size = \"5\">\n",
    "\n",
    "(d) Plot time series for single country\n",
    "\n",
    "<font size = \"3\">\n",
    "\n",
    "- Use \".query()\" to subset \"data_sorted\" for rows that satisfy\n",
    "\n",
    "$\\quad$  ```  'country_name == \"United States\"' ```\n",
    " \n",
    "- Produce a line plot with the evolution of \"prop_urban\" over time in the <br>\n",
    "United States\n",
    "\n"
   ]
  },
  {
   "cell_type": "code",
   "execution_count": null,
   "metadata": {},
   "outputs": [],
   "source": [
    "# Write your own code\n",
    "\n"
   ]
  },
  {
   "attachments": {},
   "cell_type": "markdown",
   "metadata": {},
   "source": [
    "<font size = \"5\">\n",
    "\n",
    "(e) Convert to wide format\n",
    "\n",
    "<font size = \"3\">\n",
    "\n",
    "- Convert \"data_sorted\" from long to wide, using the following arguments: <br>\n",
    "```\n",
    "   index = 'country_name'\n",
    "   columns = 'year'\n",
    "   values =  'prop_urban'\n",
    "```\n",
    "- Display the dataset to check that it is in wide format\n",
    "\n",
    "HINT: See Lecture 22 for details\n",
    "\n"
   ]
  },
  {
   "cell_type": "code",
   "execution_count": null,
   "metadata": {},
   "outputs": [],
   "source": [
    "# Write your own code\n",
    "\n",
    "\n"
   ]
  }
 ],
 "metadata": {
  "kernelspec": {
   "display_name": "Python 3",
   "language": "python",
   "name": "python3"
  },
  "language_info": {
   "codemirror_mode": {
    "name": "ipython",
    "version": 3
   },
   "file_extension": ".py",
   "mimetype": "text/x-python",
   "name": "python",
   "nbconvert_exporter": "python",
   "pygments_lexer": "ipython3",
   "version": "3.11.1"
  },
  "orig_nbformat": 4,
  "vscode": {
   "interpreter": {
    "hash": "aee8b7b246df8f9039afb4144a1f6fd8d2ca17a180786b69acc140d282b71a49"
   }
  }
 },
 "nbformat": 4,
 "nbformat_minor": 2
}
