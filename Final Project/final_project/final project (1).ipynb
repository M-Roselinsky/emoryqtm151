{
 "cells": [
  {
   "attachments": {},
   "cell_type": "markdown",
   "metadata": {},
   "source": [
    "# <span style=\"color:darkblue\"> QTM 151 Final Project </span>\n",
    "\n",
    "<font size = \"5\">\n",
    "\n",
    "By Isabel Cohen, Page Nellis, Mia Roselinsky, and Parker Shimp\n"
   ]
  },
  {
   "attachments": {},
   "cell_type": "markdown",
   "metadata": {},
   "source": [
    "<font size = \"5\">\n",
    "<span style=\"color:darkblue\"> Introduction </span>\n",
    "\n",
    "\n",
    "<font size = \"4\">\n",
    "\n",
    "\n",
    "A markdown text with 1-2 paragraph that summarize the main goals of the project. The first paragraph should briefly describe what Formula 1 is, what question you’re interested in, and why it is relevant. The introduction should end with a high-level description of the results and the coming structure of the project. Try to make the text self-contained, intended for someone who isn’t familiar with Formula 1 or the dataset.\n",
    "\n",
    "Potential questions:\n",
    "- What countries produce the best drivers?\n",
    "- Which country has the circuits where drivers are most successful?\n",
    "- Which team has the best drivers?\n",
    "- Which month are the best drivers born in?"
   ]
  },
  {
   "attachments": {},
   "cell_type": "markdown",
   "metadata": {},
   "source": [
    "<font size = \"5\">\n",
    "<span style=\"color:darkblue\"> Data Description </span>\n",
    "\n",
    "\n",
    "<font size = \"4\">\n",
    "\n",
    "\n",
    "Write a markdown chunk of 1 paragraph describing which dataset tables(among the 14) you will be using. State what each row represents, how many observations are contained in each table, the years, and a brief overview of the of the data that is contained there:\n",
    "- Import any necessary libraries.\n",
    "- Import the data.\n",
    "- Do any calculations for counting the number of rows, etc.\n"
   ]
  },
  {
   "cell_type": "code",
   "execution_count": null,
   "metadata": {},
   "outputs": [],
   "source": [
    "# import libraries\n",
    "# import datasets\n",
    "# count number of rows, columns, and interpret the data briefly"
   ]
  },
  {
   "cell_type": "code",
   "execution_count": 1,
   "metadata": {},
   "outputs": [],
   "source": [
    "import pandas as pd"
   ]
  },
  {
   "cell_type": "code",
   "execution_count": 9,
   "metadata": {},
   "outputs": [
    {
     "name": "stdout",
     "output_type": "stream",
     "text": [
      "1102\n",
      "857\n",
      "33902\n"
     ]
    }
   ],
   "source": [
    "races = pd.read_csv(\"data_raw/races.csv\")\n",
    "drivers = pd.read_csv(\"data_raw/drivers.csv\")\n",
    "driver_standings = pd.read_csv(\"data_raw/driver_standings.csv\")\n",
    "\n",
    "print(len(races))\n",
    "print(len(drivers))\n",
    "print(len(driver_standings))"
   ]
  },
  {
   "attachments": {},
   "cell_type": "markdown",
   "metadata": {},
   "source": [
    "<font size = \"5\">\n",
    "<span style=\"color:darkblue\"> Merging Procedures </span>\n",
    "\n",
    "\n",
    "<font size = \"4\">\n",
    "Write a paragraph in markdown describing any merging procedures.\n",
    "Include code for merging."
   ]
  },
  {
   "cell_type": "code",
   "execution_count": 10,
   "metadata": {},
   "outputs": [],
   "source": [
    "# merging code\n",
    "driver_merge = pd.merge(driver_standings,\n",
    "                       drivers[[\"driverId\",\"forename\",\"surname\",\"dob\"]],\n",
    "                       on = \"driverId\",\n",
    "                       how = \"left\")\n",
    "\n",
    "\n",
    "final_merge = pd.merge(driver_merge,\n",
    "                       races[[\"raceId\",\"year\",\"name\"]],\n",
    "                       on = \"raceId\",\n",
    "                       how = \"left\")"
   ]
  },
  {
   "attachments": {},
   "cell_type": "markdown",
   "metadata": {},
   "source": [
    "need to aggregate races by year "
   ]
  },
  {
   "attachments": {},
   "cell_type": "markdown",
   "metadata": {},
   "source": [
    "<font size = \"5\">\n",
    "<span style=\"color:darkblue\"> Data Cleaning Procedures </span>\n",
    "\n",
    "\n",
    "<font size = \"4\">\n",
    "Write a paragraph in markdown summarizing data cleaning procedures.\n",
    "Include code for data cleaning."
   ]
  },
  {
   "cell_type": "code",
   "execution_count": null,
   "metadata": {},
   "outputs": [],
   "source": [
    "# data cleaning code"
   ]
  },
  {
   "attachments": {},
   "cell_type": "markdown",
   "metadata": {},
   "source": [
    "<font size = \"5\">\n",
    "<span style=\"color:darkblue\"> Column Analysis </span>\n",
    "\n",
    "\n",
    "<font size = \"4\">\n",
    "Write a paragraph describing your main columns:\n",
    "Compute a table of descriptive statistics for the main columns of the merged dataset that you’re interested. Try to be selective. The idea is to do a deeper analysis of a few columns rather than to do a lot.\n"
   ]
  },
  {
   "cell_type": "code",
   "execution_count": null,
   "metadata": {},
   "outputs": [],
   "source": [
    "# descriptive statistics of merged data"
   ]
  },
  {
   "attachments": {},
   "cell_type": "markdown",
   "metadata": {},
   "source": [
    "<font size = \"5\">\n",
    "<span style=\"color:darkblue\"> Results </span>\n",
    "\n",
    "\n",
    "<font size = \"4\">\n",
    "This should contain a combination of code to produce tables/plots and markdown text explaining what the findings are. Be creative! The idea is to understand the relationship between different sets of\n",
    "columns to answer an interesting question about the data.\n"
   ]
  },
  {
   "attachments": {},
   "cell_type": "markdown",
   "metadata": {},
   "source": [
    "<font size = \"5\">\n",
    "<span style=\"color:darkblue\"> Discussion </span>\n",
    "\n",
    "\n",
    "<font size = \"4\">\n",
    "Provide a brief 1 paragraph markdown chunk summarizing your findings. Describe the main things you learned from the data.\n"
   ]
  }
 ],
 "metadata": {
  "kernelspec": {
   "display_name": "Python 3",
   "language": "python",
   "name": "python3"
  },
  "language_info": {
   "codemirror_mode": {
    "name": "ipython",
    "version": 3
   },
   "file_extension": ".py",
   "mimetype": "text/x-python",
   "name": "python",
   "nbconvert_exporter": "python",
   "pygments_lexer": "ipython3",
   "version": "3.11.1"
  },
  "orig_nbformat": 4,
  "vscode": {
   "interpreter": {
    "hash": "aee8b7b246df8f9039afb4144a1f6fd8d2ca17a180786b69acc140d282b71a49"
   }
  }
 },
 "nbformat": 4,
 "nbformat_minor": 2
}
