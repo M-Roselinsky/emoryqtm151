{
 "cells": [
  {
   "attachments": {},
   "cell_type": "markdown",
   "metadata": {},
   "source": [
    "## Try to submit as an HTML file"
   ]
  },
  {
   "attachments": {},
   "cell_type": "markdown",
   "metadata": {},
   "source": [
    "<font size = \"5\">\n",
    "Print your name below"
   ]
  },
  {
   "cell_type": "code",
   "execution_count": 1,
   "metadata": {},
   "outputs": [
    {
     "name": "stdout",
     "output_type": "stream",
     "text": [
      "Mia Roselinsky\n"
     ]
    }
   ],
   "source": [
    "print(\"Mia Roselinsky\")"
   ]
  },
  {
   "attachments": {},
   "cell_type": "markdown",
   "metadata": {},
   "source": [
    "<font size = \"5\">\n",
    "\n",
    "Import the \"pandas\" and \"matplotlib.pyplot\" library"
   ]
  },
  {
   "cell_type": "code",
   "execution_count": 27,
   "metadata": {},
   "outputs": [],
   "source": [
    "# Write your answer here:\n",
    "\n",
    "import pandas as pd\n",
    "\n",
    "import matplotlib.pyplot as plt\n",
    "\n",
    "\n"
   ]
  },
  {
   "attachments": {},
   "cell_type": "markdown",
   "metadata": {},
   "source": [
    "<font size = \"5\">\n",
    "\n",
    "(a) Compute function for each individual (map)\n",
    "\n",
    "<font size = \"3\">\n",
    "\n",
    "- Import the datset \"data/investment.csv\"\n",
    "- Write a lambda function for $V = P/(1+r)$.\n",
    "- Use ```list(map(...))``` to calculate $V$ for each row of the dataset\n"
   ]
  },
  {
   "cell_type": "code",
   "execution_count": 3,
   "metadata": {},
   "outputs": [
    {
     "data": {
      "text/plain": [
       "[990.09900990099,\n",
       " 1960.7843137254902,\n",
       " 485.43689320388347,\n",
       " 769.2307692307692,\n",
       " 370.3703703703703]"
      ]
     },
     "execution_count": 3,
     "metadata": {},
     "output_type": "execute_result"
    }
   ],
   "source": [
    "# Write your own code here\n",
    "\n",
    "data = pd.read_csv(\"data/investment.csv\")\n",
    "\n",
    "V =  lambda P,r: P / (1+r)\n",
    "\n",
    "list(map(V, data[\"P\"], data[\"r\"]))"
   ]
  },
  {
   "attachments": {},
   "cell_type": "markdown",
   "metadata": {},
   "source": [
    "<font size = \"5\">\n",
    "\n",
    "(b) Convert to upper case\n",
    "\n",
    "<font size = \"3\">\n",
    "\n",
    "- Create the following function to convert a string to upper case\n",
    "\n",
    "$\\quad$ ``` fn_upper = lambda x: x.upper() ```\n",
    "\n",
    "- Create a new column, \"countryname_upper\"  <br>\n",
    "that converts \"countryname\" to upper case."
   ]
  },
  {
   "cell_type": "code",
   "execution_count": 20,
   "metadata": {},
   "outputs": [
    {
     "ename": "AttributeError",
     "evalue": "'DataFrame' object has no attribute 'fn_upper'",
     "output_type": "error",
     "traceback": [
      "\u001b[0;31m---------------------------------------------------------------------------\u001b[0m",
      "\u001b[0;31mAttributeError\u001b[0m                            Traceback (most recent call last)",
      "Cell \u001b[0;32mIn[20], line 6\u001b[0m\n\u001b[1;32m      2\u001b[0m wdi_urban \u001b[39m=\u001b[39m pd\u001b[39m.\u001b[39mread_csv(\u001b[39m\"\u001b[39m\u001b[39mdata/wdi_urban.csv\u001b[39m\u001b[39m\"\u001b[39m)\n\u001b[1;32m      4\u001b[0m fn_upper \u001b[39m=\u001b[39m \u001b[39mlambda\u001b[39;00m x: x\u001b[39m.\u001b[39mupper()\n\u001b[0;32m----> 6\u001b[0m countryname_upper \u001b[39m=\u001b[39m wdi_urban\u001b[39m.\u001b[39;49mfn_upper(by \u001b[39m=\u001b[39m \u001b[39m\"\u001b[39m\u001b[39mcountryname\u001b[39m\u001b[39m\"\u001b[39m, assending \u001b[39m=\u001b[39m \u001b[39mTrue\u001b[39;00m)\n",
      "File \u001b[0;32m/Library/Frameworks/Python.framework/Versions/3.11/lib/python3.11/site-packages/pandas/core/generic.py:5902\u001b[0m, in \u001b[0;36mNDFrame.__getattr__\u001b[0;34m(self, name)\u001b[0m\n\u001b[1;32m   5895\u001b[0m \u001b[39mif\u001b[39;00m (\n\u001b[1;32m   5896\u001b[0m     name \u001b[39mnot\u001b[39;00m \u001b[39min\u001b[39;00m \u001b[39mself\u001b[39m\u001b[39m.\u001b[39m_internal_names_set\n\u001b[1;32m   5897\u001b[0m     \u001b[39mand\u001b[39;00m name \u001b[39mnot\u001b[39;00m \u001b[39min\u001b[39;00m \u001b[39mself\u001b[39m\u001b[39m.\u001b[39m_metadata\n\u001b[1;32m   5898\u001b[0m     \u001b[39mand\u001b[39;00m name \u001b[39mnot\u001b[39;00m \u001b[39min\u001b[39;00m \u001b[39mself\u001b[39m\u001b[39m.\u001b[39m_accessors\n\u001b[1;32m   5899\u001b[0m     \u001b[39mand\u001b[39;00m \u001b[39mself\u001b[39m\u001b[39m.\u001b[39m_info_axis\u001b[39m.\u001b[39m_can_hold_identifiers_and_holds_name(name)\n\u001b[1;32m   5900\u001b[0m ):\n\u001b[1;32m   5901\u001b[0m     \u001b[39mreturn\u001b[39;00m \u001b[39mself\u001b[39m[name]\n\u001b[0;32m-> 5902\u001b[0m \u001b[39mreturn\u001b[39;00m \u001b[39mobject\u001b[39;49m\u001b[39m.\u001b[39;49m\u001b[39m__getattribute__\u001b[39;49m(\u001b[39mself\u001b[39;49m, name)\n",
      "\u001b[0;31mAttributeError\u001b[0m: 'DataFrame' object has no attribute 'fn_upper'"
     ]
    }
   ],
   "source": [
    "# Write your own code here\n",
    "wdi_urban = pd.read_csv(\"data/wdi_urban.csv\")\n",
    "\n",
    "fn_upper = lambda x: x.upper()\n",
    "\n",
    "countryname_upper = wdi_urban.fn_upper(by = \"countryname\", assending = True)"
   ]
  },
  {
   "attachments": {},
   "cell_type": "markdown",
   "metadata": {},
   "source": [
    "<font size = \"5\">\n",
    "For questions (b)-(d), read \"data/wdi_2020.csv\" "
   ]
  },
  {
   "attachments": {},
   "cell_type": "markdown",
   "metadata": {},
   "source": [
    "<font size = \"5\">\n",
    "\n",
    "(c) Extract sorted elements from a dataset\n",
    "\n",
    "<font size = \"3\">\n",
    "\n",
    "- Sort by \"prop_urbanpopulation\" in descending order\n",
    "- Subset the 5 countries with the highest urban population"
   ]
  },
  {
   "cell_type": "code",
   "execution_count": 4,
   "metadata": {},
   "outputs": [
    {
     "data": {
      "text/html": [
       "<div>\n",
       "<style scoped>\n",
       "    .dataframe tbody tr th:only-of-type {\n",
       "        vertical-align: middle;\n",
       "    }\n",
       "\n",
       "    .dataframe tbody tr th {\n",
       "        vertical-align: top;\n",
       "    }\n",
       "\n",
       "    .dataframe thead th {\n",
       "        text-align: right;\n",
       "    }\n",
       "</style>\n",
       "<table border=\"1\" class=\"dataframe\">\n",
       "  <thead>\n",
       "    <tr style=\"text-align: right;\">\n",
       "      <th></th>\n",
       "      <th>year</th>\n",
       "      <th>yearcode</th>\n",
       "      <th>countryname</th>\n",
       "      <th>countrycode</th>\n",
       "      <th>prop_urbanpopulation</th>\n",
       "    </tr>\n",
       "  </thead>\n",
       "  <tbody>\n",
       "    <tr>\n",
       "      <th>212</th>\n",
       "      <td>2020</td>\n",
       "      <td>YR2020</td>\n",
       "      <td>Singapore</td>\n",
       "      <td>SGP</td>\n",
       "      <td>100.000</td>\n",
       "    </tr>\n",
       "    <tr>\n",
       "      <th>147</th>\n",
       "      <td>2020</td>\n",
       "      <td>YR2020</td>\n",
       "      <td>Macao SAR, China</td>\n",
       "      <td>MAC</td>\n",
       "      <td>100.000</td>\n",
       "    </tr>\n",
       "    <tr>\n",
       "      <th>40</th>\n",
       "      <td>2020</td>\n",
       "      <td>YR2020</td>\n",
       "      <td>Cayman Islands</td>\n",
       "      <td>CYM</td>\n",
       "      <td>100.000</td>\n",
       "    </tr>\n",
       "    <tr>\n",
       "      <th>90</th>\n",
       "      <td>2020</td>\n",
       "      <td>YR2020</td>\n",
       "      <td>Gibraltar</td>\n",
       "      <td>GIB</td>\n",
       "      <td>100.000</td>\n",
       "    </tr>\n",
       "    <tr>\n",
       "      <th>103</th>\n",
       "      <td>2020</td>\n",
       "      <td>YR2020</td>\n",
       "      <td>Hong Kong SAR, China</td>\n",
       "      <td>HKG</td>\n",
       "      <td>100.000</td>\n",
       "    </tr>\n",
       "    <tr>\n",
       "      <th>...</th>\n",
       "      <td>...</td>\n",
       "      <td>...</td>\n",
       "      <td>...</td>\n",
       "      <td>...</td>\n",
       "      <td>...</td>\n",
       "    </tr>\n",
       "    <tr>\n",
       "      <th>34</th>\n",
       "      <td>2020</td>\n",
       "      <td>YR2020</td>\n",
       "      <td>Burundi</td>\n",
       "      <td>BDI</td>\n",
       "      <td>13.708</td>\n",
       "    </tr>\n",
       "    <tr>\n",
       "      <th>191</th>\n",
       "      <td>2020</td>\n",
       "      <td>YR2020</td>\n",
       "      <td>Papua New Guinea</td>\n",
       "      <td>PNG</td>\n",
       "      <td>13.345</td>\n",
       "    </tr>\n",
       "    <tr>\n",
       "      <th>127</th>\n",
       "      <td>2020</td>\n",
       "      <td>YR2020</td>\n",
       "      <td>Kosovo</td>\n",
       "      <td>XKX</td>\n",
       "      <td>NaN</td>\n",
       "    </tr>\n",
       "    <tr>\n",
       "      <th>183</th>\n",
       "      <td>2020</td>\n",
       "      <td>YR2020</td>\n",
       "      <td>Not classified</td>\n",
       "      <td>INX</td>\n",
       "      <td>NaN</td>\n",
       "    </tr>\n",
       "    <tr>\n",
       "      <th>227</th>\n",
       "      <td>2020</td>\n",
       "      <td>YR2020</td>\n",
       "      <td>St. Martin (French part)</td>\n",
       "      <td>MAF</td>\n",
       "      <td>NaN</td>\n",
       "    </tr>\n",
       "  </tbody>\n",
       "</table>\n",
       "<p>266 rows × 5 columns</p>\n",
       "</div>"
      ],
      "text/plain": [
       "     year yearcode               countryname countrycode  prop_urbanpopulation\n",
       "212  2020   YR2020                 Singapore         SGP               100.000\n",
       "147  2020   YR2020          Macao SAR, China         MAC               100.000\n",
       "40   2020   YR2020            Cayman Islands         CYM               100.000\n",
       "90   2020   YR2020                 Gibraltar         GIB               100.000\n",
       "103  2020   YR2020      Hong Kong SAR, China         HKG               100.000\n",
       "..    ...      ...                       ...         ...                   ...\n",
       "34   2020   YR2020                   Burundi         BDI                13.708\n",
       "191  2020   YR2020          Papua New Guinea         PNG                13.345\n",
       "127  2020   YR2020                    Kosovo         XKX                   NaN\n",
       "183  2020   YR2020            Not classified         INX                   NaN\n",
       "227  2020   YR2020  St. Martin (French part)         MAF                   NaN\n",
       "\n",
       "[266 rows x 5 columns]"
      ]
     },
     "metadata": {},
     "output_type": "display_data"
    },
    {
     "data": {
      "text/html": [
       "<div>\n",
       "<style scoped>\n",
       "    .dataframe tbody tr th:only-of-type {\n",
       "        vertical-align: middle;\n",
       "    }\n",
       "\n",
       "    .dataframe tbody tr th {\n",
       "        vertical-align: top;\n",
       "    }\n",
       "\n",
       "    .dataframe thead th {\n",
       "        text-align: right;\n",
       "    }\n",
       "</style>\n",
       "<table border=\"1\" class=\"dataframe\">\n",
       "  <thead>\n",
       "    <tr style=\"text-align: right;\">\n",
       "      <th></th>\n",
       "      <th>year</th>\n",
       "      <th>yearcode</th>\n",
       "      <th>countryname</th>\n",
       "      <th>countrycode</th>\n",
       "      <th>prop_urbanpopulation</th>\n",
       "    </tr>\n",
       "  </thead>\n",
       "  <tbody>\n",
       "    <tr>\n",
       "      <th>212</th>\n",
       "      <td>2020</td>\n",
       "      <td>YR2020</td>\n",
       "      <td>Singapore</td>\n",
       "      <td>SGP</td>\n",
       "      <td>100.0</td>\n",
       "    </tr>\n",
       "    <tr>\n",
       "      <th>147</th>\n",
       "      <td>2020</td>\n",
       "      <td>YR2020</td>\n",
       "      <td>Macao SAR, China</td>\n",
       "      <td>MAC</td>\n",
       "      <td>100.0</td>\n",
       "    </tr>\n",
       "    <tr>\n",
       "      <th>40</th>\n",
       "      <td>2020</td>\n",
       "      <td>YR2020</td>\n",
       "      <td>Cayman Islands</td>\n",
       "      <td>CYM</td>\n",
       "      <td>100.0</td>\n",
       "    </tr>\n",
       "    <tr>\n",
       "      <th>90</th>\n",
       "      <td>2020</td>\n",
       "      <td>YR2020</td>\n",
       "      <td>Gibraltar</td>\n",
       "      <td>GIB</td>\n",
       "      <td>100.0</td>\n",
       "    </tr>\n",
       "    <tr>\n",
       "      <th>103</th>\n",
       "      <td>2020</td>\n",
       "      <td>YR2020</td>\n",
       "      <td>Hong Kong SAR, China</td>\n",
       "      <td>HKG</td>\n",
       "      <td>100.0</td>\n",
       "    </tr>\n",
       "  </tbody>\n",
       "</table>\n",
       "</div>"
      ],
      "text/plain": [
       "     year yearcode           countryname countrycode  prop_urbanpopulation\n",
       "212  2020   YR2020             Singapore         SGP                 100.0\n",
       "147  2020   YR2020      Macao SAR, China         MAC                 100.0\n",
       "40   2020   YR2020        Cayman Islands         CYM                 100.0\n",
       "90   2020   YR2020             Gibraltar         GIB                 100.0\n",
       "103  2020   YR2020  Hong Kong SAR, China         HKG                 100.0"
      ]
     },
     "metadata": {},
     "output_type": "display_data"
    }
   ],
   "source": [
    "# Write your code here\n",
    "wdi2020 = pd.read_csv(\"data/wdi_2020.csv\")\n",
    "\n",
    "wdi2020_prop_urbanpopulation = wdi2020.sort_values(by = \"prop_urbanpopulation\", ascending = False)\n",
    "display(wdi2020_prop_urbanpopulation)\n",
    "\n",
    "display(wdi2020_prop_urbanpopulation.iloc[0:5,:])\n"
   ]
  },
  {
   "attachments": {},
   "cell_type": "markdown",
   "metadata": {},
   "source": [
    "<font size = \"5\">\n",
    "\n",
    "(d) Subset elements with query\n",
    "\n",
    "<font size = \"3\">\n",
    "\n",
    "- Compute the median of \"prop_urbanpopulation\"\n",
    "- Use \".query()\" to subset countries with <br>\n",
    " \"prop_urbanpopulation\" above the median"
   ]
  },
  {
   "cell_type": "code",
   "execution_count": 21,
   "metadata": {},
   "outputs": [
    {
     "name": "stdout",
     "output_type": "stream",
     "text": [
      "266\n",
      "133.0\n",
      "132.0\n"
     ]
    },
    {
     "ename": "KeyError",
     "evalue": "133",
     "output_type": "error",
     "traceback": [
      "\u001b[0;31m---------------------------------------------------------------------------\u001b[0m",
      "\u001b[0;31mKeyError\u001b[0m                                  Traceback (most recent call last)",
      "File \u001b[0;32m/Library/Frameworks/Python.framework/Versions/3.11/lib/python3.11/site-packages/pandas/core/indexes/base.py:3802\u001b[0m, in \u001b[0;36mIndex.get_loc\u001b[0;34m(self, key, method, tolerance)\u001b[0m\n\u001b[1;32m   3801\u001b[0m \u001b[39mtry\u001b[39;00m:\n\u001b[0;32m-> 3802\u001b[0m     \u001b[39mreturn\u001b[39;00m \u001b[39mself\u001b[39;49m\u001b[39m.\u001b[39;49m_engine\u001b[39m.\u001b[39;49mget_loc(casted_key)\n\u001b[1;32m   3803\u001b[0m \u001b[39mexcept\u001b[39;00m \u001b[39mKeyError\u001b[39;00m \u001b[39mas\u001b[39;00m err:\n",
      "File \u001b[0;32m/Library/Frameworks/Python.framework/Versions/3.11/lib/python3.11/site-packages/pandas/_libs/index.pyx:138\u001b[0m, in \u001b[0;36mpandas._libs.index.IndexEngine.get_loc\u001b[0;34m()\u001b[0m\n",
      "File \u001b[0;32m/Library/Frameworks/Python.framework/Versions/3.11/lib/python3.11/site-packages/pandas/_libs/index.pyx:165\u001b[0m, in \u001b[0;36mpandas._libs.index.IndexEngine.get_loc\u001b[0;34m()\u001b[0m\n",
      "File \u001b[0;32mpandas/_libs/hashtable_class_helper.pxi:5745\u001b[0m, in \u001b[0;36mpandas._libs.hashtable.PyObjectHashTable.get_item\u001b[0;34m()\u001b[0m\n",
      "File \u001b[0;32mpandas/_libs/hashtable_class_helper.pxi:5753\u001b[0m, in \u001b[0;36mpandas._libs.hashtable.PyObjectHashTable.get_item\u001b[0;34m()\u001b[0m\n",
      "\u001b[0;31mKeyError\u001b[0m: 133",
      "\nThe above exception was the direct cause of the following exception:\n",
      "\u001b[0;31mKeyError\u001b[0m                                  Traceback (most recent call last)",
      "Cell \u001b[0;32mIn[21], line 7\u001b[0m\n\u001b[1;32m      5\u001b[0m \u001b[39mprint\u001b[39m(n\u001b[39m/\u001b[39m\u001b[39m2\u001b[39m)\n\u001b[1;32m      6\u001b[0m \u001b[39mprint\u001b[39m(n\u001b[39m/\u001b[39m\u001b[39m2\u001b[39m \u001b[39m-\u001b[39m \u001b[39m1\u001b[39m)\n\u001b[0;32m----> 7\u001b[0m median1 \u001b[39m=\u001b[39m wdi2020_prop_urbanpopulation[\u001b[39m133\u001b[39;49m]\n",
      "File \u001b[0;32m/Library/Frameworks/Python.framework/Versions/3.11/lib/python3.11/site-packages/pandas/core/frame.py:3807\u001b[0m, in \u001b[0;36mDataFrame.__getitem__\u001b[0;34m(self, key)\u001b[0m\n\u001b[1;32m   3805\u001b[0m \u001b[39mif\u001b[39;00m \u001b[39mself\u001b[39m\u001b[39m.\u001b[39mcolumns\u001b[39m.\u001b[39mnlevels \u001b[39m>\u001b[39m \u001b[39m1\u001b[39m:\n\u001b[1;32m   3806\u001b[0m     \u001b[39mreturn\u001b[39;00m \u001b[39mself\u001b[39m\u001b[39m.\u001b[39m_getitem_multilevel(key)\n\u001b[0;32m-> 3807\u001b[0m indexer \u001b[39m=\u001b[39m \u001b[39mself\u001b[39;49m\u001b[39m.\u001b[39;49mcolumns\u001b[39m.\u001b[39;49mget_loc(key)\n\u001b[1;32m   3808\u001b[0m \u001b[39mif\u001b[39;00m is_integer(indexer):\n\u001b[1;32m   3809\u001b[0m     indexer \u001b[39m=\u001b[39m [indexer]\n",
      "File \u001b[0;32m/Library/Frameworks/Python.framework/Versions/3.11/lib/python3.11/site-packages/pandas/core/indexes/base.py:3804\u001b[0m, in \u001b[0;36mIndex.get_loc\u001b[0;34m(self, key, method, tolerance)\u001b[0m\n\u001b[1;32m   3802\u001b[0m     \u001b[39mreturn\u001b[39;00m \u001b[39mself\u001b[39m\u001b[39m.\u001b[39m_engine\u001b[39m.\u001b[39mget_loc(casted_key)\n\u001b[1;32m   3803\u001b[0m \u001b[39mexcept\u001b[39;00m \u001b[39mKeyError\u001b[39;00m \u001b[39mas\u001b[39;00m err:\n\u001b[0;32m-> 3804\u001b[0m     \u001b[39mraise\u001b[39;00m \u001b[39mKeyError\u001b[39;00m(key) \u001b[39mfrom\u001b[39;00m \u001b[39merr\u001b[39;00m\n\u001b[1;32m   3805\u001b[0m \u001b[39mexcept\u001b[39;00m \u001b[39mTypeError\u001b[39;00m:\n\u001b[1;32m   3806\u001b[0m     \u001b[39m# If we have a listlike key, _check_indexing_error will raise\u001b[39;00m\n\u001b[1;32m   3807\u001b[0m     \u001b[39m#  InvalidIndexError. Otherwise we fall through and re-raise\u001b[39;00m\n\u001b[1;32m   3808\u001b[0m     \u001b[39m#  the TypeError.\u001b[39;00m\n\u001b[1;32m   3809\u001b[0m     \u001b[39mself\u001b[39m\u001b[39m.\u001b[39m_check_indexing_error(key)\n",
      "\u001b[0;31mKeyError\u001b[0m: 133"
     ]
    }
   ],
   "source": [
    "# Write your own code here\n",
    "\n",
    "n = len(wdi2020_prop_urbanpopulation)\n",
    "print(n)\n",
    "print(n/2)\n",
    "print(n/2 - 1)\n",
    "median1 = wdi2020_prop_urbanpopulation[133]\n",
    "\n",
    "median1 = wdi2020_prop_urbanpopulation[n//2]\n",
    "median2 = wdi2020_prop_urbanpopulation[n//2 - 1]\n",
    "median = (median1 + median2) / 2\n",
    "\n"
   ]
  },
  {
   "attachments": {},
   "cell_type": "markdown",
   "metadata": {},
   "source": [
    "<font size = \"5\">\n",
    "\n",
    "(e) Plot by category\n",
    "\n",
    "<font size = \"3\">\n",
    "\n",
    "- Read \"data/wdi_urban.csv\"<br>\n",
    "This contains data from 1980 and 2020\n",
    "\n",
    "- Create a list with the unique values of \"year\"\n",
    "- Create a plot with a ...\n",
    "    - Histogram of \"prop_urbanpopulation\" <br>\n",
    "    for each year\n",
    "    - Set the histogram option ``` alpha = 0.5 ``` for transparency\n",
    "    - All the histograms should be overlapping\n",
    "    - Create a legend with the list of years\n",
    "    - Label the axes and the title\n",
    "\n",
    "What do we learn from the graph?\n",
    "\n",
    "HINT: See the example at the end of Lecture 10\n"
   ]
  },
  {
   "cell_type": "code",
   "execution_count": 5,
   "metadata": {},
   "outputs": [],
   "source": [
    "# Write your own code here\n",
    "\n",
    "wdiurban = pd.read_csv(\"data/wdi_urban.csv\")\n",
    "\n",
    "\n"
   ]
  }
 ],
 "metadata": {
  "kernelspec": {
   "display_name": "Python 3",
   "language": "python",
   "name": "python3"
  },
  "language_info": {
   "codemirror_mode": {
    "name": "ipython",
    "version": 3
   },
   "file_extension": ".py",
   "mimetype": "text/x-python",
   "name": "python",
   "nbconvert_exporter": "python",
   "pygments_lexer": "ipython3",
   "version": "3.11.1"
  },
  "orig_nbformat": 4,
  "vscode": {
   "interpreter": {
    "hash": "aee8b7b246df8f9039afb4144a1f6fd8d2ca17a180786b69acc140d282b71a49"
   }
  }
 },
 "nbformat": 4,
 "nbformat_minor": 2
}
